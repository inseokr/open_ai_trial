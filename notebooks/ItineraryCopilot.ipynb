{
 "cells": [
  {
   "cell_type": "markdown",
   "id": "4c519832-eb8c-40d4-beba-0175ea52a4f9",
   "metadata": {},
   "source": [
    "# Notebook for developing and testin the Itinerary Code Pilot"
   ]
  },
  {
   "cell_type": "code",
   "execution_count": null,
   "id": "19edfd8b-ea0c-49ef-ba90-65c702283859",
   "metadata": {},
   "outputs": [],
   "source": [
    "import requests\n",
    "import json\n",
    "import os\n",
    "import openai\n",
    "import ls_nb_utils\n",
    "import pandas as pd\n",
    "from geopy import distance\n",
    "import certifi\n",
    "import logging\n",
    "from http.client import HTTPConnection\n",
    "from importlib import reload\n"
   ]
  },
  {
   "cell_type": "code",
   "execution_count": null,
   "id": "d9f5c130-ba53-4434-9bc8-079ab5a85244",
   "metadata": {},
   "outputs": [],
   "source": [
    "reload(ls_nb_utils)"
   ]
  },
  {
   "cell_type": "code",
   "execution_count": null,
   "id": "628eb238-44ec-4a7b-b45b-f76e11ca483b",
   "metadata": {},
   "outputs": [],
   "source": [
    "openai.api_key  = os.environ['OPENAI_API_KEY']\n",
    "client = openai.OpenAI()\n"
   ]
  },
  {
   "cell_type": "code",
   "execution_count": null,
   "id": "06902894-9527-4143-82de-0e132a898ada",
   "metadata": {},
   "outputs": [],
   "source": [
    "ls_app_url =  'https://pocketverse.herokuapp.com/LS_API'\n",
    "ls_app_username = os.environ['LS_USERNAME']\n",
    "ls_app_password = os.environ['LS_PASSWORD']\n",
    "ls_app_username, ls_app_password"
   ]
  },
  {
   "cell_type": "code",
   "execution_count": null,
   "id": "bd961cd6-2537-4658-85b2-ad8c90e4c555",
   "metadata": {},
   "outputs": [],
   "source": [
    "resp_app = ls_nb_utils.get_access_token(ls_app_username, ls_app_password, 'jwt_login', ls_app_url)\n",
    "resp_app"
   ]
  },
  {
   "cell_type": "code",
   "execution_count": null,
   "id": "53a34cbc-3bfb-4abc-bae9-1d384c4dca9e",
   "metadata": {},
   "outputs": [],
   "source": [
    "token=resp_app['token']"
   ]
  },
  {
   "cell_type": "code",
   "execution_count": null,
   "id": "108e08bf-8d18-438b-8f3d-9f3b5e9d8cbe",
   "metadata": {},
   "outputs": [],
   "source": [
    "tok_decoded = ls_nb_utils.decode_jwt(token)\n",
    "tok_decoded"
   ]
  },
  {
   "cell_type": "code",
   "execution_count": null,
   "id": "d1f37e61-442c-4f2f-9fed-95e3e42025da",
   "metadata": {},
   "outputs": [],
   "source": [
    "uid = tok_decoded['payload']['userId']\n",
    "uid"
   ]
  },
  {
   "cell_type": "code",
   "execution_count": null,
   "id": "103a6f7b-0a75-498c-95ec-a21dfedc1111",
   "metadata": {},
   "outputs": [],
   "source": [
    "%%time\n",
    "params = {\"searchScope\": \"FRIEND\"}\n",
    "params = {}\n",
    "params = {\"serachScope\": \"San Francisco\"}\n",
    "res = ls_nb_utils.test_ls_post(params, 'place/search', url = ls_app_url, token = token, target = 'packet')"
   ]
  },
  {
   "cell_type": "code",
   "execution_count": null,
   "id": "56e4d249-8e96-4352-8305-41680f5e2a6e",
   "metadata": {},
   "outputs": [],
   "source": [
    "# HTTPConnection.debuglevel = 1\n",
    "# logging.basicConfig() # you need to initialize logging, otherwise you will not see anything from requests\n",
    "# logging.getLogger().setLevel(logging.DEBUG)\n",
    "# requests_log = logging.getLogger(\"urllib3\")\n",
    "# requests_log.setLevel(logging.DEBUG)\n",
    "# requests_log.propagate = True"
   ]
  },
  {
   "cell_type": "code",
   "execution_count": null,
   "id": "e3523e68-a4e2-40cc-b5f7-75e912bcdc6e",
   "metadata": {},
   "outputs": [],
   "source": [
    "username = 'mishabello'"
   ]
  },
  {
   "cell_type": "code",
   "execution_count": null,
   "id": "d5e1aa0f-c2c2-4071-ad55-712b246b33ab",
   "metadata": {},
   "outputs": [],
   "source": [
    "prof_params = {\"userName\":username}\n",
    "route = 'lsagent/user/preferences'\n",
    "prof_res = ls_nb_utils.test_ls_get(route, ls_app_url, params = prof_params, token = token)"
   ]
  },
  {
   "cell_type": "code",
   "execution_count": null,
   "id": "a63b19d5-9074-4101-978a-5713b095070d",
   "metadata": {},
   "outputs": [],
   "source": [
    "prof_res.content"
   ]
  },
  {
   "cell_type": "code",
   "execution_count": null,
   "id": "8b7406c6-2429-4bea-96e2-16428c8d6fc9",
   "metadata": {},
   "outputs": [],
   "source": [
    "uid"
   ]
  },
  {
   "cell_type": "code",
   "execution_count": null,
   "id": "96643762-161e-48ff-a32a-f3fb2cf3b97e",
   "metadata": {},
   "outputs": [],
   "source": [
    "prof_params = {\"userId\":uid}\n",
    "route = 'lsagent/user/preferences'\n",
    "prof_res = ls_nb_utils.test_ls_get(route, ls_app_url, params = prof_params, token = token)"
   ]
  },
  {
   "cell_type": "code",
   "execution_count": null,
   "id": "eb0e74be-cdaa-415a-9fa6-e8a79e683446",
   "metadata": {},
   "outputs": [],
   "source": [
    "prefs = prof_res.json()['preferences']\n",
    "prefs"
   ]
  },
  {
   "cell_type": "code",
   "execution_count": null,
   "id": "680bd5a3-274d-4496-8235-8b4877aa2a87",
   "metadata": {},
   "outputs": [],
   "source": [
    "prefs_txt = f'{prefs}'\n",
    "prefs_txt"
   ]
  },
  {
   "cell_type": "code",
   "execution_count": null,
   "id": "3ce8dbc3-0f51-4cd6-b52a-206944f0e15f",
   "metadata": {},
   "outputs": [],
   "source": [
    "places = res['foundPlaces']\n",
    "len(places)"
   ]
  },
  {
   "cell_type": "code",
   "execution_count": null,
   "id": "118d57f7-3909-41da-b95a-951c16eb4bc8",
   "metadata": {},
   "outputs": [],
   "source": [
    "places[1]['place']"
   ]
  },
  {
   "cell_type": "code",
   "execution_count": null,
   "id": "50facadd-df16-4080-877d-cdf967cb3607",
   "metadata": {},
   "outputs": [],
   "source": [
    "places[1]"
   ]
  },
  {
   "cell_type": "code",
   "execution_count": null,
   "id": "4cc62e21-f56e-4fd0-bb64-a011f805e14a",
   "metadata": {},
   "outputs": [],
   "source": [
    "places[1]['userStories'][0]"
   ]
  },
  {
   "cell_type": "code",
   "execution_count": null,
   "id": "249d5319-afa9-411f-8a16-6b9b80d2eb6d",
   "metadata": {},
   "outputs": [],
   "source": [
    "def make_stories(pl):\n",
    "    user_stories = pl['userStories']\n",
    "    location =  pl['place']['locationString']\n",
    "    user_st_text = f'A number of tourists visited {location} and left their stories.\\n'\n",
    "    for us in user_stories:\n",
    "        user = us['user']['username']\n",
    "        story = ''\n",
    "        for st in us['stories']:\n",
    "            t = st['timestamp']\n",
    "            s = st['story']\n",
    "            if t:\n",
    "                story += f' on {t} '\n",
    "            story += s                      \n",
    "        user_st_text += f'Visitor {user} told the following stories: {story}' + '\\n-------------------\\n'\n",
    "    return user_st_text\n",
    "s = make_stories(places[0])\n",
    "print(s)"
   ]
  },
  {
   "cell_type": "code",
   "execution_count": null,
   "id": "b56b1990-63e9-46e5-84d6-1183999573ec",
   "metadata": {},
   "outputs": [],
   "source": [
    "def select_places(places, value, by = 'user', logic = 'eq' ):\n",
    "    ret = []\n",
    "    match by:\n",
    "        case 'user':\n",
    "            for pl in places:\n",
    "                user_stories = pl['userStories']\n",
    "                for us in user_stories:\n",
    "                    user = us['user']['username']\n",
    "                    match logic:\n",
    "                        case 'eq':\n",
    "                            if user == value:\n",
    "                                ret.append(pl)\n",
    "                        case 'neq':\n",
    "                            if user != value:\n",
    "                                ret.append(pl)\n",
    "                                \n",
    "        case 'distance':\n",
    "            orig_lat, orig_long = value['origin']\n",
    "            orig = (orig_lat, orig_long)\n",
    "            rad = value['radius_miles']\n",
    "            for pl in places:\n",
    "                coor = pl['place']['coordinates']\n",
    "                lat = coor['lat']\n",
    "                lng = coor['lng']\n",
    "                pl_coor = (lat, lng)\n",
    "                dist = distance.distance(orig, pl_coor).miles\n",
    "                if (dist <= rad):\n",
    "                    ret.append(pl)\n",
    "                \n",
    "        case _:\n",
    "            ret = []\n",
    "    return ret\n",
    "\n",
    "sel_places = select_places(places, 'mishabello', by = 'user', logic = 'eq')    "
   ]
  },
  {
   "cell_type": "code",
   "execution_count": null,
   "id": "8d861efa-2bc0-4cab-82fb-cb360f707aa9",
   "metadata": {},
   "outputs": [],
   "source": [
    "sel_places[0]"
   ]
  },
  {
   "cell_type": "code",
   "execution_count": null,
   "id": "9132c2dc-ad7d-4996-8bff-6026d7b5b762",
   "metadata": {},
   "outputs": [],
   "source": [
    "uid == sel_places[0]['userStories'][0]['user']['_id']"
   ]
  },
  {
   "cell_type": "code",
   "execution_count": null,
   "id": "2b8cd69d-8e82-42c4-b015-bbbd1a7bf5f2",
   "metadata": {},
   "outputs": [],
   "source": [
    "len(sel_places), len(places)"
   ]
  },
  {
   "cell_type": "code",
   "execution_count": null,
   "id": "f7348ccb-bd1a-4f57-9087-9a56b922c1a3",
   "metadata": {},
   "outputs": [],
   "source": [
    "orig_value = {'origin':(37.7548329217169, -122.44777880753426), 'radius_miles':30}\n",
    "sel_dist = select_places(places, orig_value, by = 'distance', logic = 'le')\n",
    "len(sel_dist)"
   ]
  },
  {
   "cell_type": "code",
   "execution_count": null,
   "id": "2a8cb03e-59e5-4021-8647-99ca04f6db71",
   "metadata": {},
   "outputs": [],
   "source": [
    "def make_all_stories(places):\n",
    "    all_stories = ''\n",
    "    for pl in places:\n",
    "        all_stories += make_stories(pl)\n",
    "    return all_stories\n",
    "\n",
    "user_stories = make_all_stories(sel_dist)\n",
    "print(user_stories)"
   ]
  },
  {
   "cell_type": "markdown",
   "id": "60050dd5-b9e9-483e-86fd-3b6f2eb088e8",
   "metadata": {},
   "source": [
    "## Using Open AI"
   ]
  },
  {
   "cell_type": "code",
   "execution_count": null,
   "id": "52888a22-d9d8-44de-86b0-013083677057",
   "metadata": {},
   "outputs": [],
   "source": [
    "# %pip install geopy"
   ]
  },
  {
   "cell_type": "code",
   "execution_count": null,
   "id": "43cd1073-b604-44d4-9917-cec1aab67f2c",
   "metadata": {},
   "outputs": [],
   "source": [
    "model_name = \"gpt-3.5-turbo-1106\"\n",
    "model_name = \"gpt-3.5-turbo\"\n",
    "model_name = \"gpt-4\"\n",
    "model_name = \"gpt-4-1106-preview\"\n",
    "def req_ai0(system_message, report_message, content):\n",
    "    # app.logger.debug(system_message)\n",
    "    messages=[\n",
    "            {\"role\": \"system\", \"content\": system_message},\n",
    "            {\"role\": \"system\", \"content\": report_message}, \n",
    "            {\"role\": \"user\", \"content\": content}\n",
    "            ]\n",
    "    response = client.chat.completions.create(\n",
    "            model=model_name,\n",
    "            temperature = 0,\n",
    "            seed = 1234,\n",
    "            messages=messages\n",
    "            )\n",
    "    answer = response.choices[0].message.content    \n",
    "    # app.logger.debug(answer)\n",
    "    try:\n",
    "        ans = json.loads(answer)\n",
    "    except:\n",
    "        ans = {'text':answer}\n",
    "        \n",
    "    return ans\n"
   ]
  },
  {
   "cell_type": "code",
   "execution_count": null,
   "id": "ea99b890-4459-4e82-8d83-d0a5c7923be6",
   "metadata": {},
   "outputs": [],
   "source": [
    "def req_ai(system_message, report_message, content):\n",
    "    # app.logger.debug(system_message)\n",
    "    messages=[\n",
    "            {\"role\": \"system\", \"content\": system_message},\n",
    "            {\"role\": \"user\", \"content\": content}\n",
    "            ]\n",
    "    response = client.chat.completions.create(\n",
    "            model=model_name,\n",
    "            temperature = 0,\n",
    "            seed = 1234,\n",
    "            messages=messages\n",
    "            )\n",
    "    answer = response.choices[0].message.content  \n",
    "\n",
    "\n",
    "    messages=[\n",
    "            {\"role\": \"system\", \"content\": report_message}, \n",
    "            {\"role\": \"user\", \"content\": answer}]\n",
    "    \n",
    "    response = client.chat.completions.create(\n",
    "            model=model_name,\n",
    "            temperature = 0,\n",
    "            seed = 1234,\n",
    "            messages=messages\n",
    "            )\n",
    "    jobject = response.choices[0].message.content     \n",
    "    # app.logger.debug(answer)\n",
    "    try:\n",
    "        ret = json.loads(jobject)\n",
    "    except:\n",
    "        ret = {'text':answer}\n",
    "        \n",
    "    return ret, answer\n"
   ]
  },
  {
   "cell_type": "code",
   "execution_count": null,
   "id": "d96a24b9-7ce8-4d28-a54b-23599198b213",
   "metadata": {},
   "outputs": [],
   "source": []
  },
  {
   "cell_type": "code",
   "execution_count": null,
   "id": "25a0f207-1036-4be9-81c5-d4ab8af3a91d",
   "metadata": {},
   "outputs": [],
   "source": []
  },
  {
   "cell_type": "code",
   "execution_count": null,
   "id": "4adf1485-bb61-4894-9d82-11c4f5060e45",
   "metadata": {},
   "outputs": [],
   "source": [
    "system_message = '''You are a travel agent and a scheduler.\n",
    "Prepare an itenerary and a schedule based on the user preferences and user stories. \n",
    "Reference visitors whose stories we use for the itinerary by name at the end of the response.\n",
    "'''\n",
    "report_message = 'Restructure the user content as a JSON object.'"
   ]
  },
  {
   "cell_type": "code",
   "execution_count": null,
   "id": "dc9e266c-d0c8-421f-be3b-b25c0d73c526",
   "metadata": {},
   "outputs": [],
   "source": [
    "prefs_txt"
   ]
  },
  {
   "cell_type": "code",
   "execution_count": null,
   "id": "45218ca6-5e64-4333-b780-40880436662f",
   "metadata": {},
   "outputs": [],
   "source": [
    "place = 'San Francisco'\n",
    "\n",
    "date = '2024:04:01'\n",
    "activities = \"golf, lunch, dinner, lodging\"\n",
    "user_stories1 = ''\n",
    "content = f'''\n",
    "I am going to be in {place} on {date} and want to do the following acitivities during this day: {activities}.\n",
    "My preferenses are {prefs_txt}\n",
    "User stories are: {user_stories}\n",
    "'''"
   ]
  },
  {
   "cell_type": "code",
   "execution_count": null,
   "id": "8ef44d0e-430d-4518-ab06-cf8bf51aa8cc",
   "metadata": {},
   "outputs": [],
   "source": [
    "content"
   ]
  },
  {
   "cell_type": "code",
   "execution_count": null,
   "id": "f55e4c49-8e33-4aa6-a971-387790611bc9",
   "metadata": {},
   "outputs": [],
   "source": [
    "res, answer = req_ai(system_message, report_message, content)"
   ]
  },
  {
   "cell_type": "code",
   "execution_count": null,
   "id": "35e12c77-39c5-4dc2-8906-8935d62914f0",
   "metadata": {},
   "outputs": [],
   "source": [
    "import pprint"
   ]
  },
  {
   "cell_type": "code",
   "execution_count": null,
   "id": "878a1068-d37d-4086-8623-90a7939fb1a2",
   "metadata": {},
   "outputs": [],
   "source": [
    "pprint.pprint(res)"
   ]
  },
  {
   "cell_type": "code",
   "execution_count": null,
   "id": "fc4f4f46-8046-49ff-a8c3-7859a73f5fab",
   "metadata": {},
   "outputs": [],
   "source": [
    "print (answer)"
   ]
  },
  {
   "cell_type": "code",
   "execution_count": null,
   "id": "53dc38af-e38a-4b46-a9db-d51e99a84953",
   "metadata": {},
   "outputs": [],
   "source": [
    "def structure_response(content):\n",
    "    model_name = \"gpt-3.5-turbo\"\n",
    "    system_message = ''' Structure text provided by user as a json object. Do not loose and of the information provided in the \n",
    "                        user content'''\n",
    "    messages=[\n",
    "            {\"role\": \"system\", \"content\": system_message},\n",
    "            {\"role\": \"user\", \"content\": content}\n",
    "            ]\n",
    "    response = client.chat.completions.create(\n",
    "            model=model_name,\n",
    "            temperature = 0,\n",
    "            seed = 1234,\n",
    "            messages=messages\n",
    "            )\n",
    "    answer = response.choices[0].message.content  \n",
    "\n",
    "    jobject = response.choices[0].message.content     \n",
    "    # app.logger.debug(answer)\n",
    "    try:\n",
    "        ret = json.loads(jobject)\n",
    "    except:\n",
    "        ret = {'text':answer}      \n",
    "    return ret, answer   "
   ]
  },
  {
   "cell_type": "code",
   "execution_count": null,
   "id": "2d23af4b-be50-4c7a-8d59-95571d421f14",
   "metadata": {},
   "outputs": [],
   "source": [
    "r,a = structure_response(answer)"
   ]
  },
  {
   "cell_type": "code",
   "execution_count": null,
   "id": "62e0a588-23d5-4928-b335-e1f6acf6d928",
   "metadata": {},
   "outputs": [],
   "source": [
    "r"
   ]
  },
  {
   "cell_type": "code",
   "execution_count": null,
   "id": "04bcf1d7-fbdb-449a-b8b3-c2dcb51875a7",
   "metadata": {},
   "outputs": [],
   "source": [
    "messages=[\n",
    "        {\"role\": \"system\", \"content\": \n",
    "         '''You compare user stories and the itenerary built on the basis of the user stories and list user stories \n",
    "            which were used to buld this itinerary'''},\n",
    "        {\"role\": \"user\", \"content\": \"user stories: \" + user_stories}, \n",
    "        {\"role\": \"user\", \"content\": \"itinerary: \" + answer}\n",
    "        ]\n",
    "response = client.chat.completions.create(\n",
    "        model=model_name,\n",
    "        temperature = 0,\n",
    "        seed = 1234,\n",
    "        messages=messages\n",
    "        )\n"
   ]
  },
  {
   "cell_type": "code",
   "execution_count": null,
   "id": "7a05dafc-962d-419a-add4-f048c5d91cf1",
   "metadata": {},
   "outputs": [],
   "source": [
    "print(response.choices[0].message.content )  "
   ]
  },
  {
   "cell_type": "code",
   "execution_count": null,
   "id": "78bfcee8-a7d8-4e64-9dfd-a942f7b6ab7f",
   "metadata": {},
   "outputs": [],
   "source": []
  }
 ],
 "metadata": {
  "kernelspec": {
   "display_name": "Python 3 (ipykernel)",
   "language": "python",
   "name": "python3"
  },
  "language_info": {
   "codemirror_mode": {
    "name": "ipython",
    "version": 3
   },
   "file_extension": ".py",
   "mimetype": "text/x-python",
   "name": "python",
   "nbconvert_exporter": "python",
   "pygments_lexer": "ipython3",
   "version": "3.10.12"
  }
 },
 "nbformat": 4,
 "nbformat_minor": 5
}
