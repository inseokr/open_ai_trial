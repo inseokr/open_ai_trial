{
 "cells": [
  {
   "cell_type": "markdown",
   "id": "4c519832-eb8c-40d4-beba-0175ea52a4f9",
   "metadata": {},
   "source": [
    "# Notebook for developing and testin the Itinerary Code Pilot"
   ]
  },
  {
   "cell_type": "code",
   "execution_count": null,
   "id": "19edfd8b-ea0c-49ef-ba90-65c702283859",
   "metadata": {},
   "outputs": [],
   "source": [
    "import requests\n",
    "import json\n",
    "import os\n",
    "import openai\n",
    "import ls_nb_utils\n",
    "import pandas as pd"
   ]
  },
  {
   "cell_type": "code",
   "execution_count": null,
   "id": "628eb238-44ec-4a7b-b45b-f76e11ca483b",
   "metadata": {},
   "outputs": [],
   "source": [
    "openai.api_key  = os.environ['OPENAI_API_KEY']\n",
    "client = openai.OpenAI()\n"
   ]
  },
  {
   "cell_type": "code",
   "execution_count": null,
   "id": "06902894-9527-4143-82de-0e132a898ada",
   "metadata": {},
   "outputs": [],
   "source": [
    "ls_app_url =  'https://pocketverse.herokuapp.com/LS_API'\n",
    "ls_app_username = os.environ['LS_USERNAME']\n",
    "ls_app_password = os.environ['LS_PASSWORD']\n",
    "ls_app_username, ls_app_password"
   ]
  },
  {
   "cell_type": "code",
   "execution_count": null,
   "id": "bd961cd6-2537-4658-85b2-ad8c90e4c555",
   "metadata": {},
   "outputs": [],
   "source": [
    "resp_app = ls_nb_utils.get_access_token(ls_app_username, ls_app_password, 'jwt_login', ls_app_url)\n",
    "resp_app"
   ]
  },
  {
   "cell_type": "code",
   "execution_count": null,
   "id": "53a34cbc-3bfb-4abc-bae9-1d384c4dca9e",
   "metadata": {},
   "outputs": [],
   "source": [
    "token=resp_app['token']"
   ]
  },
  {
   "cell_type": "code",
   "execution_count": null,
   "id": "103a6f7b-0a75-498c-95ec-a21dfedc1111",
   "metadata": {},
   "outputs": [],
   "source": [
    "%%time\n",
    "params = {\"searchScope\": \"FRIEND\"}\n",
    "params = {}\n",
    "res = ls_nb_utils.test_ls_post(params, 'place/search', url = ls_app_url, token = token, target = 'packet')"
   ]
  },
  {
   "cell_type": "code",
   "execution_count": null,
   "id": "3ce8dbc3-0f51-4cd6-b52a-206944f0e15f",
   "metadata": {},
   "outputs": [],
   "source": [
    "places = res['foundPlaces']\n",
    "len(places)"
   ]
  },
  {
   "cell_type": "code",
   "execution_count": null,
   "id": "118d57f7-3909-41da-b95a-951c16eb4bc8",
   "metadata": {},
   "outputs": [],
   "source": [
    "places[1]['place']"
   ]
  },
  {
   "cell_type": "code",
   "execution_count": null,
   "id": "4cc62e21-f56e-4fd0-bb64-a011f805e14a",
   "metadata": {},
   "outputs": [],
   "source": [
    "places[1]['userStories'][0]"
   ]
  },
  {
   "cell_type": "code",
   "execution_count": null,
   "id": "249d5319-afa9-411f-8a16-6b9b80d2eb6d",
   "metadata": {},
   "outputs": [],
   "source": [
    "def make_stories(pl):\n",
    "    user_stories = pl['userStories']\n",
    "    location =  pl['place']['locationString']\n",
    "    user_st_text = f'A number of tourists visited {location} and left their stories.\\n'\n",
    "    for us in user_stories:\n",
    "        user = us['user']['username']\n",
    "        story = ''\n",
    "        for st in us['stories']:\n",
    "            t = st['timestamp']\n",
    "            s = st['story']\n",
    "            if t:\n",
    "                story += f' on {t} '\n",
    "            story += s                      \n",
    "        user_st_text += f'Visitor {user} told the following stories: {story}' + '\\n-------------------\\n'\n",
    "    return user_st_text\n",
    "s = make_stories(places[0])\n",
    "print(s)"
   ]
  },
  {
   "cell_type": "code",
   "execution_count": null,
   "id": "b56b1990-63e9-46e5-84d6-1183999573ec",
   "metadata": {},
   "outputs": [],
   "source": [
    "def select_places(places, value, by = 'user', logic = 'eq' ):\n",
    "    ret = []\n",
    "    match by:\n",
    "        case 'user':\n",
    "            for pl in places:\n",
    "                user_stories = pl['userStories']\n",
    "                for us in user_stories:\n",
    "                    user = us['user']['username']\n",
    "                    match logic:\n",
    "                        case 'eq':\n",
    "                            if user == value:\n",
    "                                ret.append(pl)\n",
    "                        case 'neq':\n",
    "                            if user != value:\n",
    "                                ret.append(pl)\n",
    "                                \n",
    "        case _:\n",
    "            ret = []\n",
    "    return ret\n",
    "\n",
    "sel_places = select_places(places, 'inseo', by = 'user', logic = 'eq')    "
   ]
  },
  {
   "cell_type": "code",
   "execution_count": null,
   "id": "2b8cd69d-8e82-42c4-b015-bbbd1a7bf5f2",
   "metadata": {},
   "outputs": [],
   "source": [
    "len(sel_places), len(places)"
   ]
  },
  {
   "cell_type": "code",
   "execution_count": null,
   "id": "2a8cb03e-59e5-4021-8647-99ca04f6db71",
   "metadata": {},
   "outputs": [],
   "source": [
    "def make_all_stories(places):\n",
    "    all_stories = ''\n",
    "    for pl in places:\n",
    "        all_stories += make_stories(pl)\n",
    "    return all_stories\n",
    "\n",
    "mb_stories = make_all_stories(sel_places)\n",
    "print(mb_stories)"
   ]
  },
  {
   "cell_type": "code",
   "execution_count": null,
   "id": "4cb51944-4673-4d65-bd99-0423a8810927",
   "metadata": {},
   "outputs": [],
   "source": [
    "sel_places[0]"
   ]
  }
 ],
 "metadata": {
  "kernelspec": {
   "display_name": "Python 3 (ipykernel)",
   "language": "python",
   "name": "python3"
  },
  "language_info": {
   "codemirror_mode": {
    "name": "ipython",
    "version": 3
   },
   "file_extension": ".py",
   "mimetype": "text/x-python",
   "name": "python",
   "nbconvert_exporter": "python",
   "pygments_lexer": "ipython3",
   "version": "3.10.12"
  }
 },
 "nbformat": 4,
 "nbformat_minor": 5
}
