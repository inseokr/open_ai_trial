{
 "cells": [
  {
   "cell_type": "markdown",
   "id": "4c519832-eb8c-40d4-beba-0175ea52a4f9",
   "metadata": {},
   "source": [
    "# Notebook for asking question to friends"
   ]
  },
  {
   "cell_type": "code",
   "execution_count": null,
   "id": "19edfd8b-ea0c-49ef-ba90-65c702283859",
   "metadata": {},
   "outputs": [],
   "source": [
    "import requests\n",
    "import json\n",
    "import os\n",
    "import openai\n",
    "import ls_nb_utils\n",
    "import pandas as pd\n",
    "# from geopy import distance\n",
    "import certifi\n",
    "import logging\n",
    "from http.client import HTTPConnection\n",
    "from importlib import reload\n",
    "import copy\n",
    "import math\n"
   ]
  },
  {
   "cell_type": "code",
   "execution_count": null,
   "id": "40f3f9fd-06ca-4d2b-ab43-ace096476eb8",
   "metadata": {},
   "outputs": [],
   "source": [
    "os.path.abspath('.')"
   ]
  },
  {
   "cell_type": "code",
   "execution_count": null,
   "id": "5c49e421-f2e3-4ed3-ab18-bb3b505acbf8",
   "metadata": {},
   "outputs": [],
   "source": [
    "# pip install openai"
   ]
  },
  {
   "cell_type": "code",
   "execution_count": null,
   "id": "60525bab-ad8f-4cef-bb9e-767f3fe18356",
   "metadata": {},
   "outputs": [],
   "source": [
    "# import geopy\n",
    "# geopy.__version__"
   ]
  },
  {
   "cell_type": "code",
   "execution_count": null,
   "id": "d9f5c130-ba53-4434-9bc8-079ab5a85244",
   "metadata": {},
   "outputs": [],
   "source": [
    "reload(ls_nb_utils)"
   ]
  },
  {
   "cell_type": "code",
   "execution_count": null,
   "id": "628eb238-44ec-4a7b-b45b-f76e11ca483b",
   "metadata": {},
   "outputs": [],
   "source": [
    "openai.api_key  = os.environ['OPENAI_API_KEY']\n",
    "client = openai.OpenAI()\n"
   ]
  },
  {
   "cell_type": "code",
   "execution_count": null,
   "id": "06902894-9527-4143-82de-0e132a898ada",
   "metadata": {},
   "outputs": [],
   "source": [
    "ls_app_url =  'https://pocketverse.herokuapp.com/LS_API'\n",
    "ls_app_username = os.environ['LS_USERNAME']\n",
    "ls_app_password = os.environ['LS_PASSWORD']\n",
    "ls_app_username, ls_app_password"
   ]
  },
  {
   "cell_type": "code",
   "execution_count": null,
   "id": "bd961cd6-2537-4658-85b2-ad8c90e4c555",
   "metadata": {},
   "outputs": [],
   "source": [
    "resp_app = ls_nb_utils.get_access_token(ls_app_username, ls_app_password, 'jwt_login', ls_app_url)\n",
    "resp_app"
   ]
  },
  {
   "cell_type": "code",
   "execution_count": null,
   "id": "53a34cbc-3bfb-4abc-bae9-1d384c4dca9e",
   "metadata": {},
   "outputs": [],
   "source": [
    "token=resp_app['token']"
   ]
  },
  {
   "cell_type": "code",
   "execution_count": null,
   "id": "108e08bf-8d18-438b-8f3d-9f3b5e9d8cbe",
   "metadata": {},
   "outputs": [],
   "source": [
    "tok_decoded = ls_nb_utils.decode_jwt(token)\n",
    "tok_decoded"
   ]
  },
  {
   "cell_type": "code",
   "execution_count": null,
   "id": "d1f37e61-442c-4f2f-9fed-95e3e42025da",
   "metadata": {},
   "outputs": [],
   "source": [
    "uid = tok_decoded['payload']['userId']\n",
    "uid"
   ]
  },
  {
   "cell_type": "markdown",
   "id": "811d4d28-69e2-4e14-9662-afb97427a43a",
   "metadata": {},
   "source": [
    "### Check API"
   ]
  },
  {
   "cell_type": "code",
   "execution_count": null,
   "id": "1d708881-b601-4834-9173-d633d8d7cde7",
   "metadata": {},
   "outputs": [],
   "source": [
    "import datetime\n",
    "import time"
   ]
  },
  {
   "cell_type": "code",
   "execution_count": null,
   "id": "97f07247-2f73-46fe-963d-f0262d90dda4",
   "metadata": {},
   "outputs": [],
   "source": [
    "# https://linkedspaces.atlassian.net/l/cp/Q99Ti6qf"
   ]
  },
  {
   "cell_type": "code",
   "execution_count": null,
   "id": "ae11bf97-1e13-464d-bf8b-680d09e74315",
   "metadata": {},
   "outputs": [],
   "source": [
    "timestamp = 1661256000000\n",
    "route = 'lsagent/user/places'\n",
    "categories = [\n",
    "      'restaurant', \n",
    "      'hotel', \n",
    "      'lodging', \n",
    "      'attraction', \n",
    "      'sightseeing', \n",
    "      'golf', \n",
    "      'cafe', \n",
    "      'grocery', \n",
    "      'shopping', \n",
    "      'airport', \n",
    "      'transportation',\n",
    "      'activity']\n",
    "cat_short = ['golf', 'cafe', 'restaurant']\n",
    "\n",
    "location_sj = {\n",
    "    \"center\": {\n",
    "        \"latitude\": 37.335480,\n",
    "        \"longitude\": -121.893028\n",
    "    },\n",
    "    \"radius\": 10000.0\n",
    "}\n",
    "\n",
    "location_sf = {\n",
    "        \"center\": {\n",
    "          \"latitude\": 37.7937,\n",
    "          \"longitude\": -122.3965\n",
    "        },\n",
    "        \"radius\": 100000.0\n",
    "    }\n",
    "    \n",
    "params = {\n",
    "  \"userName\": \"inseo\",\n",
    "  \"filters\": {\n",
    "    \"location\": location_sj,\n",
    "    \"categories\": cat_short,\n",
    "    \"time\": {\n",
    "      \"timestamp\": timestamp, \n",
    "      \"window\": 2000\n",
    "    }\n",
    "  }\n",
    "}"
   ]
  },
  {
   "cell_type": "code",
   "execution_count": null,
   "id": "3357a90b-1062-46a7-a678-7cb924c7597c",
   "metadata": {},
   "outputs": [],
   "source": [
    "print (params)"
   ]
  },
  {
   "cell_type": "code",
   "execution_count": null,
   "id": "b155e0c9-6019-4733-8ee6-9865676eb9d9",
   "metadata": {},
   "outputs": [],
   "source": [
    "reload(ls_nb_utils)"
   ]
  },
  {
   "cell_type": "code",
   "execution_count": null,
   "id": "a33f797a-05ff-40c5-9211-7abf8d8c7b35",
   "metadata": {},
   "outputs": [],
   "source": [
    "res = ls_nb_utils.test_ls_post(params, route, url = ls_app_url, token = token, target = 'packet')"
   ]
  },
  {
   "cell_type": "code",
   "execution_count": null,
   "id": "2ce62ee6-e571-465b-a584-beee19dd1b54",
   "metadata": {
    "scrolled": true
   },
   "outputs": [],
   "source": [
    "res"
   ]
  },
  {
   "cell_type": "code",
   "execution_count": null,
   "id": "829bd204-8470-4ca2-b70f-2b1252fe144d",
   "metadata": {},
   "outputs": [],
   "source": [
    "len(res['placeList'])"
   ]
  },
  {
   "cell_type": "markdown",
   "id": "b6c9ae64-a99b-4758-b791-a1de406770f0",
   "metadata": {},
   "source": [
    "### Structure The question"
   ]
  },
  {
   "cell_type": "code",
   "execution_count": null,
   "id": "a77648a6-547b-44e0-ba28-8705e20cc3e4",
   "metadata": {},
   "outputs": [],
   "source": [
    "td = datetime.datetime.today()\n",
    "td = datetime.date.isoformat(td)"
   ]
  },
  {
   "cell_type": "code",
   "execution_count": null,
   "id": "f986dea2-9179-48f5-9fa9-0bc096696ec6",
   "metadata": {},
   "outputs": [],
   "source": [
    "system_message = f'''Idendtify what the user is asking about by assigning one of the categories from the following list\n",
    "[{categories}]. Identify the name of geographical entity the user is asking about. Identify the year the user asking about. Estimate the approximate\n",
    "area in squared miles of the identified geographical entity and assign the number to the variable named Area\n",
    "'''\n",
    "system_message"
   ]
  },
  {
   "cell_type": "code",
   "execution_count": null,
   "id": "1bf3271a-5187-4242-bee3-f55d7dc06679",
   "metadata": {},
   "outputs": [],
   "source": [
    "report_message = '''Present the input as JSON object according to the following schema:\n",
    "{ category: 'shopping', location: { \n",
    "\"name\": name, \"center\": {latitude: value, longitude: value}, \n",
    "area:value (miles**2)}, time: YYYY-MM }\n",
    "'''"
   ]
  },
  {
   "cell_type": "code",
   "execution_count": null,
   "id": "bead531d-c3ac-4f5d-af4d-60a6621531ee",
   "metadata": {},
   "outputs": [],
   "source": [
    "user_text = f''' What's the name of a Korean restaurant I visited in San Francisco two year ago. Today is {td}'''\n",
    "user_text = f''' What's the name of the airport I visited in San Francisco five years ago. Today is {td}'''\n",
    "user_text = f'''What restaurant did I visit this year in Santa Clara? Today is {td}'''\n",
    "# user_text = f''' What's the name of the airport I visited in Europe five years ago. Today is {td}'''"
   ]
  },
  {
   "cell_type": "code",
   "execution_count": null,
   "id": "6fcc5374-baa8-4501-89e6-cda4b6ef355e",
   "metadata": {},
   "outputs": [],
   "source": [
    "%%time\n",
    "obj, text = ls_nb_utils.req_ai2(client, user_text, model_name_system = 'gpt-3.5-turbo', \n",
    "                    system_message = system_message, report_message = report_message)"
   ]
  },
  {
   "cell_type": "code",
   "execution_count": null,
   "id": "a5a321e9-fe1e-4344-aea3-703ce91b073c",
   "metadata": {},
   "outputs": [],
   "source": [
    "obj, text"
   ]
  },
  {
   "cell_type": "markdown",
   "id": "5039180d-0754-4963-915f-38a40fa1cfdd",
   "metadata": {},
   "source": [
    "### Building a filter"
   ]
  },
  {
   "cell_type": "code",
   "execution_count": null,
   "id": "d9759615-f1cf-4df1-b672-582d5772c0a2",
   "metadata": {},
   "outputs": [],
   "source": [
    "ts = datetime.datetime.fromisoformat(obj['time']+'-01').timestamp()*1000"
   ]
  },
  {
   "cell_type": "code",
   "execution_count": null,
   "id": "2efc8486-71bc-4765-96db-fdfc9309c08b",
   "metadata": {},
   "outputs": [],
   "source": [
    "center = obj['location']['center']\n",
    "radius2 = obj['location']['area']\n",
    "radius = math.sqrt(radius2)\n",
    "METERS_IN_A_MILE = 1609.34\n",
    "radius = radius*METERS_IN_A_MILE"
   ]
  },
  {
   "cell_type": "code",
   "execution_count": null,
   "id": "3691a850-6f37-47ec-8988-44a65ab53005",
   "metadata": {},
   "outputs": [],
   "source": [
    "params = {\n",
    "  \"userName\": \"inseo\",\n",
    "  \"filters\": {\n",
    "    \"location\": {'center':center, \n",
    "                 'radius':radius\n",
    "                },\n",
    "    \"categories\": [obj['category']],\n",
    "    \"time\": {\n",
    "      \"timestamp\": ts, \n",
    "      \"window\": 365\n",
    "    }\n",
    "  }\n",
    "}"
   ]
  },
  {
   "cell_type": "code",
   "execution_count": null,
   "id": "658f1019-6757-40ee-9721-2e2dfe8b2857",
   "metadata": {},
   "outputs": [],
   "source": [
    "res = ls_nb_utils.test_ls_post(params, route, url = ls_app_url, token = token, target = 'packet')"
   ]
  },
  {
   "cell_type": "code",
   "execution_count": null,
   "id": "d0d54a07-473c-4577-b6b9-5fdf4bf4c78e",
   "metadata": {},
   "outputs": [],
   "source": [
    "res"
   ]
  },
  {
   "cell_type": "code",
   "execution_count": null,
   "id": "09606df4-03d0-4b37-981a-ae6deec38872",
   "metadata": {},
   "outputs": [],
   "source": [
    "params"
   ]
  },
  {
   "cell_type": "code",
   "execution_count": null,
   "id": "1c47e32c-94f5-4de6-b517-9a937584eea4",
   "metadata": {},
   "outputs": [],
   "source": [
    "list_of_places = res['placeList']"
   ]
  },
  {
   "cell_type": "markdown",
   "id": "65e54fa6-4afb-4a82-bd42-86a57fcbee5f",
   "metadata": {},
   "source": [
    "### Finding a match"
   ]
  },
  {
   "cell_type": "code",
   "execution_count": null,
   "id": "24f4bb49-c0f9-47b9-806d-355b69065a5d",
   "metadata": {},
   "outputs": [],
   "source": [
    "%%time\n",
    "system_message = f'''find two locations from this list {list_of_places} that match best the user's request. \n",
    "                     Report placeIndex and placeName for the found match'''\n",
    "report_message = '''Present input as JSON object according to the following schema:\n",
    "{\"matching_places\":[{\"placeIndex\": 27, \"placeName\": \"Starbucks\"}]}'''\n",
    "\n",
    "obj, text = ls_nb_utils.req_ai2(client, user_text, model_name_system = 'gpt-3.5-turbo', \n",
    "                    system_message = system_message, report_message = report_message)"
   ]
  },
  {
   "cell_type": "code",
   "execution_count": null,
   "id": "0b87eb69-0b6e-46c9-9b1f-2e4e6898e4d3",
   "metadata": {},
   "outputs": [],
   "source": [
    "text"
   ]
  },
  {
   "cell_type": "code",
   "execution_count": null,
   "id": "0b8e224e-7462-4863-bb63-2ef02150012e",
   "metadata": {},
   "outputs": [],
   "source": [
    "obj"
   ]
  },
  {
   "cell_type": "code",
   "execution_count": null,
   "id": "3309f18f-18c3-44e7-ba91-e73da61007b0",
   "metadata": {},
   "outputs": [],
   "source": [
    "system_message\n",
    "\n"
   ]
  },
  {
   "cell_type": "code",
   "execution_count": null,
   "id": "960d523c-0a13-4830-8e3d-bd3d808ff2c8",
   "metadata": {},
   "outputs": [],
   "source": []
  }
 ],
 "metadata": {
  "kernelspec": {
   "display_name": "Python 3 (ipykernel)",
   "language": "python",
   "name": "python3"
  },
  "language_info": {
   "codemirror_mode": {
    "name": "ipython",
    "version": 3
   },
   "file_extension": ".py",
   "mimetype": "text/x-python",
   "name": "python",
   "nbconvert_exporter": "python",
   "pygments_lexer": "ipython3",
   "version": "3.10.12"
  }
 },
 "nbformat": 4,
 "nbformat_minor": 5
}
