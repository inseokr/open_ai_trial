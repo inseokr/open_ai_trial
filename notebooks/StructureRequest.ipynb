{
 "cells": [
  {
   "cell_type": "markdown",
   "id": "3d51333a-bf33-4398-bf00-0bdbffc5bd77",
   "metadata": {},
   "source": [
    "# Reply with the structured response"
   ]
  },
  {
   "cell_type": "code",
   "execution_count": null,
   "id": "f98707eb-f255-46a1-9657-0e6517131e1c",
   "metadata": {},
   "outputs": [],
   "source": [
    "import requests\n",
    "import json\n",
    "import os\n",
    "import openai\n",
    "import ls_nb_utils\n",
    "from http.client import HTTPConnection\n",
    "from importlib import reload\n",
    "import copy\n",
    "import math\n"
   ]
  },
  {
   "cell_type": "code",
   "execution_count": null,
   "id": "f2b692ef-93b3-4c6c-a940-080cac429721",
   "metadata": {},
   "outputs": [],
   "source": [
    "openai.api_key  = os.environ['OPENAI_API_KEY']\n",
    "client = openai.OpenAI()\n"
   ]
  },
  {
   "cell_type": "code",
   "execution_count": null,
   "id": "025e0bbc-ede6-4538-bf11-ceaa746f401a",
   "metadata": {},
   "outputs": [],
   "source": [
    "category_list = '''\n",
    "'restaurant', \n",
    "    'hotel', \n",
    "    'lodging', \n",
    "    'attraction', \n",
    "    'sightseeing', \n",
    "    'golf', \n",
    "    'cafe', \n",
    "    'grocery', \n",
    "    'shopping', \n",
    "    'airport', \n",
    "    'transportation',\n",
    "    'activity'\n",
    "'''"
   ]
  },
  {
   "cell_type": "code",
   "execution_count": null,
   "id": "c628e3ca-4fc2-4dfd-bd47-f8b3565262d6",
   "metadata": {},
   "outputs": [],
   "source": [
    "user = 'I am looking for a restaurant in San Jose'\n",
    "# user = 'I do not know what I am asking about'\n",
    "# user  = \"I'm looking for a hotel in St. Petersburg\"\n",
    "assistant = '''You are a computer program that presents result following the \n",
    "                Example of the output:{\"location\": location, \"category\": category}.\n",
    "            '''\n",
    "system = f'''identify a location and a category from the list of categories [{category_list}] provided in the user request. If there \n",
    "          is no location information in the user request report null as the location. If there is no category identified report null \n",
    "          as the category'''\n"
   ]
  },
  {
   "cell_type": "code",
   "execution_count": null,
   "id": "e8b8ef4b-a879-4693-bb4a-1c9b78682a60",
   "metadata": {},
   "outputs": [],
   "source": [
    "%%time\n",
    "model = 'gpt-3.5-turbo'\n",
    "messages=[\n",
    "        {\"role\": \"assistant\", \"content\": assistant},\n",
    "        {\"role\": \"system\", \"content\": system},\n",
    "        {\"role\": \"user\", \"content\": user},\n",
    "        ]\n",
    "response = client.chat.completions.create(\n",
    "        model=model,\n",
    "        temperature = 0,\n",
    "        seed = 1234,\n",
    "        messages=messages,\n",
    "        )\n",
    "answer = response.choices[0].message.content \n"
   ]
  },
  {
   "cell_type": "code",
   "execution_count": null,
   "id": "7658a809-4cc7-4bb7-b855-d2a3c6c2326f",
   "metadata": {},
   "outputs": [],
   "source": [
    "answer"
   ]
  },
  {
   "cell_type": "code",
   "execution_count": null,
   "id": "896b42c1-813c-421b-bcea-6fd7d1e09032",
   "metadata": {},
   "outputs": [],
   "source": [
    "json.loads(answer)"
   ]
  },
  {
   "cell_type": "code",
   "execution_count": null,
   "id": "7672c72e-b7e8-4506-89c1-299eca105418",
   "metadata": {},
   "outputs": [],
   "source": []
  }
 ],
 "metadata": {
  "kernelspec": {
   "display_name": "Python 3 (ipykernel)",
   "language": "python",
   "name": "python3"
  },
  "language_info": {
   "codemirror_mode": {
    "name": "ipython",
    "version": 3
   },
   "file_extension": ".py",
   "mimetype": "text/x-python",
   "name": "python",
   "nbconvert_exporter": "python",
   "pygments_lexer": "ipython3",
   "version": "3.10.12"
  }
 },
 "nbformat": 4,
 "nbformat_minor": 5
}
