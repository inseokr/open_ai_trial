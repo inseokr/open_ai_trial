{
 "cells": [
  {
   "cell_type": "code",
   "execution_count": null,
   "id": "78d73d2b",
   "metadata": {},
   "outputs": [],
   "source": [
    "#pip install -U sentence-transformers"
   ]
  },
  {
   "cell_type": "code",
   "execution_count": null,
   "id": "c487813a",
   "metadata": {},
   "outputs": [],
   "source": [
    "from sentence_transformers import SentenceTransformer\n",
    "import numpy as np"
   ]
  },
  {
   "cell_type": "code",
   "execution_count": null,
   "id": "ced3e940",
   "metadata": {},
   "outputs": [],
   "source": [
    "import openai"
   ]
  },
  {
   "cell_type": "code",
   "execution_count": null,
   "id": "297bcd18",
   "metadata": {},
   "outputs": [],
   "source": [
    "# import sentence_transformers\n",
    "# print(sentence_transformers.__version__)"
   ]
  },
  {
   "cell_type": "code",
   "execution_count": null,
   "id": "b368fff7",
   "metadata": {},
   "outputs": [],
   "source": [
    "text_chunks = [\n",
    "    \"This is the first chunk of text.\",\n",
    "    \"Here is another chunk of text.\",\n",
    "    \"This text chunk is different from the others.\"\n",
    "]\n",
    "\n",
    "txt = '''\n",
    "OpenAI’s text embeddings measure the relatedness of text strings. Embeddings are commonly used for:\n",
    "Search (where results are ranked by relevance to a query string)\n",
    "Clustering (where text strings are grouped by similarity)\n",
    "Recommendations (where items with related text strings are recommended)\n",
    "Anomaly detection (where outliers with little relatedness are identified)\n",
    "Diversity measurement (where similarity distributions are analyzed)\n",
    "Classification (where text strings are classified by their most similar label)\n",
    "An embedding is a vector (list) of floating point numbers. \n",
    "The distance between two vectors measures their relatedness. Small distances suggest high relatedness and large distances suggest low relatedness.\n",
    "'''\n",
    "text_chunks = [txt]"
   ]
  },
  {
   "cell_type": "code",
   "execution_count": null,
   "id": "004190a8",
   "metadata": {
    "scrolled": false
   },
   "outputs": [],
   "source": [
    "\n",
    "model = SentenceTransformer('sentence-transformers/all-MiniLM-L6-v2')\n",
    "embeddings = model.encode(text_chunks)\n",
    "#print(embeddings)"
   ]
  },
  {
   "cell_type": "code",
   "execution_count": null,
   "id": "f5f884cd",
   "metadata": {},
   "outputs": [],
   "source": [
    "np.array(embeddings).shape"
   ]
  },
  {
   "cell_type": "code",
   "execution_count": null,
   "id": "9efb7421",
   "metadata": {},
   "outputs": [],
   "source": [
    "client = openai.OpenAI()"
   ]
  },
  {
   "cell_type": "code",
   "execution_count": null,
   "id": "42cac62d",
   "metadata": {},
   "outputs": [],
   "source": [
    "def get_embedding(text, model=\"text-embedding-3-small\"):\n",
    "    text = text.replace(\"\\n\", \" \")\n",
    "    response = client.embeddings.create(input = [text], model=model)\n",
    "    return response.data[0].embedding\n"
   ]
  },
  {
   "cell_type": "code",
   "execution_count": null,
   "id": "ca374afd",
   "metadata": {},
   "outputs": [],
   "source": [
    "import tiktoken\n",
    "\n",
    "def num_tokens_from_string(string: str, encoding_name: str) -> int:\n",
    "    \"\"\"Returns the number of tokens in a text string.\"\"\"\n",
    "    encoding = tiktoken.get_encoding(encoding_name)\n",
    "    num_tokens = len(encoding.encode(string))\n",
    "    return num_tokens\n",
    "\n",
    "#num_tokens_from_string(\"tiktoken is great!\", \"cl100k_base\")"
   ]
  },
  {
   "cell_type": "code",
   "execution_count": null,
   "id": "7b1f643e",
   "metadata": {},
   "outputs": [],
   "source": [
    "# Get embeddings and track usage\n",
    "#model =\"text-embedding-ada-002\"\n",
    "model =\"text-embedding-3-small\"\n",
    "encoding_name = \"cl100k_base\"\n",
    "embeddings = []\n",
    "total_tokens = 0\n",
    "for chunk in text_chunks:\n",
    "    print(chunk)\n",
    "    embedding = get_embedding(chunk)\n",
    "    print(len(embedding))\n",
    "    embeddings.append(embedding)\n",
    "    ntokens = num_tokens_from_string(chunk, encoding_name)\n",
    "    #total_tokens += len(chunk.split())\n",
    "    total_tokens +=ntokens"
   ]
  },
  {
   "cell_type": "code",
   "execution_count": null,
   "id": "f64e7aa3",
   "metadata": {},
   "outputs": [],
   "source": [
    "len(text_chunks)"
   ]
  },
  {
   "cell_type": "code",
   "execution_count": null,
   "id": "c696d7f0",
   "metadata": {},
   "outputs": [],
   "source": [
    "total_tokens"
   ]
  },
  {
   "cell_type": "code",
   "execution_count": null,
   "id": "6ce190e1",
   "metadata": {},
   "outputs": [],
   "source": [
    "#print(embeddings)"
   ]
  },
  {
   "cell_type": "code",
   "execution_count": null,
   "id": "53c67904",
   "metadata": {},
   "outputs": [],
   "source": [
    "np.array(embeddings).shape"
   ]
  },
  {
   "cell_type": "code",
   "execution_count": null,
   "id": "5ce01615",
   "metadata": {},
   "outputs": [],
   "source": [
    "encoding = tiktoken.get_encoding(\"cl100k_base\")\n",
    "chunk_lst = encoding.encode(text_chunks[0])\n",
    "encoding.decode(chunk_lst)"
   ]
  },
  {
   "cell_type": "code",
   "execution_count": null,
   "id": "23288ea4",
   "metadata": {},
   "outputs": [],
   "source": [
    "#chunk_lst"
   ]
  },
  {
   "cell_type": "code",
   "execution_count": null,
   "id": "b2a26e9e",
   "metadata": {},
   "outputs": [],
   "source": []
  }
 ],
 "metadata": {
  "kernelspec": {
   "display_name": "Python 3 (ipykernel)",
   "language": "python",
   "name": "python3"
  },
  "language_info": {
   "codemirror_mode": {
    "name": "ipython",
    "version": 3
   },
   "file_extension": ".py",
   "mimetype": "text/x-python",
   "name": "python",
   "nbconvert_exporter": "python",
   "pygments_lexer": "ipython3",
   "version": "3.10.10"
  }
 },
 "nbformat": 4,
 "nbformat_minor": 5
}
