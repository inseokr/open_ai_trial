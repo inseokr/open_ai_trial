{
 "cells": [
  {
   "cell_type": "code",
   "execution_count": null,
   "id": "96a47a5d",
   "metadata": {},
   "outputs": [],
   "source": [
    "# pip install pymongo"
   ]
  },
  {
   "cell_type": "code",
   "execution_count": null,
   "id": "6eab67c7",
   "metadata": {},
   "outputs": [],
   "source": [
    "from pymongo import MongoClient"
   ]
  },
  {
   "cell_type": "code",
   "execution_count": null,
   "id": "284e3f42",
   "metadata": {},
   "outputs": [],
   "source": [
    "import os\n",
    "import re"
   ]
  },
  {
   "cell_type": "code",
   "execution_count": null,
   "id": "6fa98352",
   "metadata": {},
   "outputs": [],
   "source": [
    "import ssl\n",
    "ssl._create_default_https_context = ssl._create_unverified_context"
   ]
  },
  {
   "cell_type": "code",
   "execution_count": null,
   "id": "32d69d7f",
   "metadata": {},
   "outputs": [],
   "source": [
    "mongodb_url = os.environ['DATABASEURL']\n",
    "#mongodb_url"
   ]
  },
  {
   "cell_type": "code",
   "execution_count": null,
   "id": "7438026d",
   "metadata": {},
   "outputs": [],
   "source": [
    "###"
   ]
  },
  {
   "cell_type": "code",
   "execution_count": null,
   "id": "d0839f59",
   "metadata": {},
   "outputs": [],
   "source": [
    "### I added tlsAllowInvalidCertificates=True , because on MACOS it was the issue for me , \n",
    "### probably Linux does not have this problem\n",
    "client = MongoClient(mongodb_url, tlsAllowInvalidCertificates=True)"
   ]
  },
  {
   "cell_type": "code",
   "execution_count": null,
   "id": "bfbf8c3c",
   "metadata": {},
   "outputs": [],
   "source": [
    "client"
   ]
  },
  {
   "cell_type": "code",
   "execution_count": null,
   "id": "c1703c12",
   "metadata": {
    "scrolled": false
   },
   "outputs": [],
   "source": [
    "database_names = client.list_database_names()\n",
    "print(database_names)"
   ]
  },
  {
   "cell_type": "code",
   "execution_count": null,
   "id": "6d3f14bc",
   "metadata": {},
   "outputs": [],
   "source": [
    "db = client['linkedspaces']"
   ]
  },
  {
   "cell_type": "code",
   "execution_count": null,
   "id": "52dfc1d7",
   "metadata": {},
   "outputs": [],
   "source": [
    "collection_names = db.list_collection_names()\n",
    "print(collection_names)"
   ]
  },
  {
   "cell_type": "code",
   "execution_count": null,
   "id": "bdafd9eb",
   "metadata": {},
   "outputs": [],
   "source": [
    "collection = db['restaurants']"
   ]
  },
  {
   "cell_type": "code",
   "execution_count": null,
   "id": "63aca8f8",
   "metadata": {
    "scrolled": false
   },
   "outputs": [],
   "source": [
    "for name in collection_names:\n",
    "    print(\"DB NAME:\", name)\n",
    "    collection = db[name]\n",
    "    ### print one object\n",
    "    document = collection.find_one()\n",
    "    print(document)\n",
    "    print(\"==>\")\n",
    "    \n",
    "    "
   ]
  },
  {
   "cell_type": "code",
   "execution_count": null,
   "id": "5a2b2348",
   "metadata": {},
   "outputs": [],
   "source": []
  },
  {
   "cell_type": "code",
   "execution_count": null,
   "id": "4b530048",
   "metadata": {},
   "outputs": [],
   "source": []
  },
  {
   "cell_type": "markdown",
   "id": "7d558127",
   "metadata": {},
   "source": [
    "#### query example"
   ]
  },
  {
   "cell_type": "code",
   "execution_count": null,
   "id": "fb701e03",
   "metadata": {},
   "outputs": [],
   "source": [
    "retrieved_document = collection.find_one({'listingSource': 'Yelp', 'category': 'korean'})\n",
    "retrieved_document"
   ]
  },
  {
   "cell_type": "code",
   "execution_count": null,
   "id": "80e5df3e",
   "metadata": {},
   "outputs": [],
   "source": [
    "query = {'listingSource': 'Yelp', 'category': 'korean'}\n",
    "filtered_documents = collection.find(query)\n",
    "for document in filtered_documents:\n",
    "    print(document)"
   ]
  },
  {
   "cell_type": "markdown",
   "id": "3b733e4d",
   "metadata": {},
   "source": [
    "#### case-insensitive"
   ]
  },
  {
   "cell_type": "code",
   "execution_count": null,
   "id": "3e0e17d0",
   "metadata": {
    "scrolled": false
   },
   "outputs": [],
   "source": [
    "query = {'listingSource': 'Yelp', 'category': re.compile('korean', re.IGNORECASE)}\n",
    "filtered_documents = collection.find(query)\n",
    "for document in filtered_documents:\n",
    "    print(document)"
   ]
  },
  {
   "cell_type": "code",
   "execution_count": null,
   "id": "b801a1e5",
   "metadata": {
    "scrolled": false
   },
   "outputs": [],
   "source": []
  },
  {
   "cell_type": "markdown",
   "id": "865af93c",
   "metadata": {},
   "source": [
    "#### query with not "
   ]
  },
  {
   "cell_type": "code",
   "execution_count": null,
   "id": "0b75222b",
   "metadata": {},
   "outputs": [],
   "source": [
    "query = {\"listingSource\": \"Yelp\", \"category\": {\"$ne\": \"korean\"}}\n",
    "query = {\n",
    "    \"listingSource\": \"Yelp\",\n",
    "    \"category\": {\"$not\": re.compile('korean', re.IGNORECASE)}\n",
    "}\n",
    "\n",
    "filtered_documents = collection.find(query)\n",
    "for document in filtered_documents:\n",
    "    print(document)"
   ]
  },
  {
   "cell_type": "code",
   "execution_count": null,
   "id": "555ce866",
   "metadata": {
    "scrolled": false
   },
   "outputs": [],
   "source": [
    "documents = collection.find()\n",
    "print(documents[0])\n",
    "# for doc in documents:\n",
    "#     print(doc)"
   ]
  },
  {
   "cell_type": "code",
   "execution_count": null,
   "id": "0248fe75",
   "metadata": {},
   "outputs": [],
   "source": []
  },
  {
   "cell_type": "code",
   "execution_count": null,
   "id": "005d2616",
   "metadata": {},
   "outputs": [],
   "source": []
  }
 ],
 "metadata": {
  "kernelspec": {
   "display_name": "Python 3 (ipykernel)",
   "language": "python",
   "name": "python3"
  },
  "language_info": {
   "codemirror_mode": {
    "name": "ipython",
    "version": 3
   },
   "file_extension": ".py",
   "mimetype": "text/x-python",
   "name": "python",
   "nbconvert_exporter": "python",
   "pygments_lexer": "ipython3",
   "version": "3.10.10"
  }
 },
 "nbformat": 4,
 "nbformat_minor": 5
}
