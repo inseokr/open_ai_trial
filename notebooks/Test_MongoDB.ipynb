{
 "cells": [
  {
   "cell_type": "code",
   "execution_count": null,
   "id": "96a47a5d",
   "metadata": {},
   "outputs": [],
   "source": [
    "# pip install pymongo"
   ]
  },
  {
   "cell_type": "code",
   "execution_count": null,
   "id": "6eab67c7",
   "metadata": {},
   "outputs": [],
   "source": [
    "from pymongo import MongoClient"
   ]
  },
  {
   "cell_type": "code",
   "execution_count": null,
   "id": "9608b901",
   "metadata": {},
   "outputs": [],
   "source": [
    "from pprint import pprint"
   ]
  },
  {
   "cell_type": "code",
   "execution_count": null,
   "id": "284e3f42",
   "metadata": {},
   "outputs": [],
   "source": [
    "import os\n",
    "import re"
   ]
  },
  {
   "cell_type": "code",
   "execution_count": null,
   "id": "6fa98352",
   "metadata": {},
   "outputs": [],
   "source": [
    "import ssl\n",
    "ssl._create_default_https_context = ssl._create_unverified_context"
   ]
  },
  {
   "cell_type": "code",
   "execution_count": null,
   "id": "32d69d7f",
   "metadata": {},
   "outputs": [],
   "source": [
    "mongodb_url = os.environ['DATABASEURL']\n",
    "#mongodb_url"
   ]
  },
  {
   "cell_type": "code",
   "execution_count": null,
   "id": "7438026d",
   "metadata": {},
   "outputs": [],
   "source": [
    "###"
   ]
  },
  {
   "cell_type": "code",
   "execution_count": null,
   "id": "d0839f59",
   "metadata": {},
   "outputs": [],
   "source": [
    "### I added tlsAllowInvalidCertificates=True , because on MACOS it was the issue for me , \n",
    "### probably Linux does not have this problem\n",
    "client = MongoClient(mongodb_url, tlsAllowInvalidCertificates=True)"
   ]
  },
  {
   "cell_type": "code",
   "execution_count": null,
   "id": "bfbf8c3c",
   "metadata": {},
   "outputs": [],
   "source": [
    "client"
   ]
  },
  {
   "cell_type": "code",
   "execution_count": null,
   "id": "c1703c12",
   "metadata": {},
   "outputs": [],
   "source": [
    "database_names = client.list_database_names()\n",
    "print(database_names)"
   ]
  },
  {
   "cell_type": "code",
   "execution_count": null,
   "id": "6d3f14bc",
   "metadata": {},
   "outputs": [],
   "source": [
    "db = client['linkedspaces']"
   ]
  },
  {
   "cell_type": "code",
   "execution_count": null,
   "id": "52dfc1d7",
   "metadata": {},
   "outputs": [],
   "source": [
    "collection_names = db.list_collection_names()\n",
    "print(collection_names)"
   ]
  },
  {
   "cell_type": "code",
   "execution_count": null,
   "id": "63aca8f8",
   "metadata": {},
   "outputs": [],
   "source": [
    "# for name in collection_names:\n",
    "#     print(\"DB NAME:\", name)\n",
    "#     collection = db[name]\n",
    "#     ### print one object\n",
    "#     document = collection.find_one()\n",
    "#     print(document)\n",
    "#     print(\"==>\")\n",
    "    \n",
    "    "
   ]
  },
  {
   "cell_type": "markdown",
   "id": "9f37b5c9",
   "metadata": {},
   "source": [
    "### Blogs"
   ]
  },
  {
   "cell_type": "code",
   "execution_count": null,
   "id": "5a2b2348",
   "metadata": {},
   "outputs": [],
   "source": [
    "collection = db['events']"
   ]
  },
  {
   "cell_type": "code",
   "execution_count": null,
   "id": "4b530048",
   "metadata": {},
   "outputs": [],
   "source": [
    "document = collection.find_one()\n",
    "pprint(document)"
   ]
  },
  {
   "cell_type": "code",
   "execution_count": null,
   "id": "aa8e843c",
   "metadata": {},
   "outputs": [],
   "source": [
    "collection.create_index([(\"$**\", \"text\")])\n"
   ]
  },
  {
   "cell_type": "code",
   "execution_count": null,
   "id": "d1ee3597",
   "metadata": {},
   "outputs": [],
   "source": [
    "query = {\"child_listings.created_by.username\": \"mishabello\"}\n",
    "query = {\"child_listings.created_by.username\": \"mishabello\", \"$text\": {\"$search\": \"Tahoe\"}}\n",
    "query = {\"child_listings.created_by.username\": \"mishabello\", \"$text\": {\"$search\": \"Chalet\"}}\n",
    "# query = {\"child_listings.created_by.username\": \"liza\"}"
   ]
  },
  {
   "cell_type": "code",
   "execution_count": null,
   "id": "0fccadaa",
   "metadata": {},
   "outputs": [],
   "source": [
    "matching_documents = collection.find(query)\n",
    "for doc in matching_documents:\n",
    "    pprint(doc)"
   ]
  },
  {
   "cell_type": "code",
   "execution_count": null,
   "id": "4ef2412a",
   "metadata": {},
   "outputs": [],
   "source": [
    "matching_documents = collection.find(query)\n",
    "for doc in matching_documents:\n",
    "    print(doc['location'])\n",
    "    cnts = doc['blogContents']['contents']\n",
    "    for cnt in cnts:\n",
    "        try:\n",
    "            print(cnt['story'])\n",
    "        except:\n",
    "            print('Cannot print story:')\n",
    "            print(cnt)"
   ]
  },
  {
   "cell_type": "code",
   "execution_count": null,
   "id": "b83d5a3c",
   "metadata": {},
   "outputs": [],
   "source": [
    "matching_documents = collection.find(query)\n",
    "pprint(matching_documents[0])"
   ]
  },
  {
   "cell_type": "code",
   "execution_count": null,
   "id": "212cb907",
   "metadata": {},
   "outputs": [],
   "source": [
    "for doc in matching_documents:\n",
    "    #pprint(doc['blogContents'])\n",
    "    pprint(doc['location'])"
   ]
  },
  {
   "cell_type": "code",
   "execution_count": null,
   "id": "50f22d53",
   "metadata": {},
   "outputs": [],
   "source": [
    "retrieved_document = collection.find_one(query)\n",
    "retrieved_document"
   ]
  },
  {
   "cell_type": "code",
   "execution_count": null,
   "id": "a169d56f",
   "metadata": {},
   "outputs": [],
   "source": []
  },
  {
   "cell_type": "markdown",
   "id": "7d558127",
   "metadata": {},
   "source": [
    "#### query example"
   ]
  },
  {
   "cell_type": "code",
   "execution_count": null,
   "id": "bdafd9eb",
   "metadata": {},
   "outputs": [],
   "source": [
    "collection = db['restaurants']"
   ]
  },
  {
   "cell_type": "code",
   "execution_count": null,
   "id": "fb701e03",
   "metadata": {},
   "outputs": [],
   "source": [
    "retrieved_document = collection.find_one({'listingSource': 'Yelp', 'category': 'korean'})\n",
    "retrieved_document"
   ]
  },
  {
   "cell_type": "code",
   "execution_count": null,
   "id": "80e5df3e",
   "metadata": {},
   "outputs": [],
   "source": [
    "query = {'listingSource': 'Yelp', 'category': 'korean'}\n",
    "filtered_documents = collection.find(query)\n",
    "for document in filtered_documents:\n",
    "    print(document)"
   ]
  },
  {
   "cell_type": "markdown",
   "id": "3b733e4d",
   "metadata": {},
   "source": [
    "#### case-insensitive"
   ]
  },
  {
   "cell_type": "code",
   "execution_count": null,
   "id": "3e0e17d0",
   "metadata": {},
   "outputs": [],
   "source": [
    "query = {'listingSource': 'Yelp', 'category': re.compile('korean', re.IGNORECASE)}\n",
    "filtered_documents = collection.find(query)\n",
    "for document in filtered_documents:\n",
    "    print(document)"
   ]
  },
  {
   "cell_type": "code",
   "execution_count": null,
   "id": "b801a1e5",
   "metadata": {},
   "outputs": [],
   "source": []
  },
  {
   "cell_type": "markdown",
   "id": "865af93c",
   "metadata": {},
   "source": [
    "#### query with not "
   ]
  },
  {
   "cell_type": "code",
   "execution_count": null,
   "id": "0b75222b",
   "metadata": {},
   "outputs": [],
   "source": [
    "query = {\"listingSource\": \"Yelp\", \"category\": {\"$ne\": \"korean\"}}\n",
    "query = {\n",
    "    \"listingSource\": \"Yelp\",\n",
    "    \"category\": {\"$not\": re.compile('korean', re.IGNORECASE)}\n",
    "}\n",
    "\n",
    "filtered_documents = collection.find(query)\n",
    "for document in filtered_documents:\n",
    "    print(document)"
   ]
  },
  {
   "cell_type": "code",
   "execution_count": null,
   "id": "555ce866",
   "metadata": {},
   "outputs": [],
   "source": [
    "documents = collection.find()\n",
    "print(documents[0])\n",
    "# for doc in documents:\n",
    "#     print(doc)"
   ]
  },
  {
   "cell_type": "code",
   "execution_count": null,
   "id": "0248fe75",
   "metadata": {},
   "outputs": [],
   "source": []
  },
  {
   "cell_type": "code",
   "execution_count": null,
   "id": "005d2616",
   "metadata": {},
   "outputs": [],
   "source": []
  }
 ],
 "metadata": {
  "kernelspec": {
   "display_name": "Python 3 (ipykernel)",
   "language": "python",
   "name": "python3"
  },
  "language_info": {
   "codemirror_mode": {
    "name": "ipython",
    "version": 3
   },
   "file_extension": ".py",
   "mimetype": "text/x-python",
   "name": "python",
   "nbconvert_exporter": "python",
   "pygments_lexer": "ipython3",
   "version": "3.10.12"
  }
 },
 "nbformat": 4,
 "nbformat_minor": 5
}
