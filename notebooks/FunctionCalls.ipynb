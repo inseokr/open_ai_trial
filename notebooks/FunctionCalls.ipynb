{
 "cells": [
  {
   "cell_type": "markdown",
   "id": "b2fb2f6a-100a-4ab2-a5af-593b0a3a90b7",
   "metadata": {},
   "source": [
    "# Function Calls\n",
    "## Automatic selection of the API function"
   ]
  },
  {
   "cell_type": "code",
   "execution_count": 1,
   "id": "beefcc7b-d7d4-483b-a4b0-5dbeaaa0aad8",
   "metadata": {},
   "outputs": [],
   "source": [
    "import requests\n",
    "import json\n",
    "import os\n",
    "import openai\n",
    "import ls_nb_utils as lsutils\n",
    "import lsagent as ls\n",
    "\n",
    "from http.client import HTTPConnection\n",
    "from importlib import reload\n",
    "import copy\n",
    "import math"
   ]
  },
  {
   "cell_type": "code",
   "execution_count": 2,
   "id": "8aa99e2d-fbd2-40db-9c29-f107ed1bf163",
   "metadata": {},
   "outputs": [],
   "source": [
    "openai.api_key  = os.environ['OPENAI_API_KEY']\n",
    "client = openai.OpenAI()\n"
   ]
  },
  {
   "cell_type": "code",
   "execution_count": 3,
   "id": "c9cdddd3-a31e-43b0-9600-e192d0dd5f44",
   "metadata": {},
   "outputs": [
    {
     "data": {
      "text/plain": [
       "<module 'lsagent' from '/home/mbello/Documents/Projects/LinkedSpaces/open_ai_trial/notebooks/lsagent.py'>"
      ]
     },
     "execution_count": 3,
     "metadata": {},
     "output_type": "execute_result"
    }
   ],
   "source": [
    "reload(ls)"
   ]
  },
  {
   "cell_type": "code",
   "execution_count": 4,
   "id": "e195220a-279e-4b52-805b-b368e3f11741",
   "metadata": {},
   "outputs": [],
   "source": [
    "def use_mongo_db(content, params):\n",
    "    '''Uses mongodb if the user's content contains only one of the two following options: \n",
    "     1. location information of a place, \n",
    "     2. location of a place and a category of the place \n",
    "     Parameters:\n",
    "        content: user's content\n",
    "     Returns:\n",
    "        true if the mongodb can be used\n",
    "        false if mongodb cannot be used\n",
    "     '''\n",
    "    return true\n"
   ]
  },
  {
   "cell_type": "code",
   "execution_count": 5,
   "id": "62835313-ce35-4df7-b106-693880eaca71",
   "metadata": {},
   "outputs": [],
   "source": [
    "ai_functions = {'get_model_name': ls.get_model_name,\n",
    "                'sentiment_analysis': ls.sentiment_analysis,\n",
    "                    'categorization': ls.categorization,\n",
    "                    'grammar_correction':ls.grammar_correction,\n",
    "                    'single_venue_itinerary':ls.single_venue_itinerary,\n",
    "                    'single_venue_recommendations_public':ls.single_venue_recommendations_public,\n",
    "                    'itinerary_public_text':ls.itinerary_public_text,\n",
    "                    'itinerary_object': ls.itinerary_object,\n",
    "                    'remind_me': ls.remind_me,\n",
    "                    'structure_request': ls.structure_request,\n",
    "                } \n",
    "ai_functions['use_mongo_db'] = use_mongo_db"
   ]
  },
  {
   "cell_type": "code",
   "execution_count": 6,
   "id": "ab0120fd-6654-44c6-9111-a4a442136eef",
   "metadata": {},
   "outputs": [
    {
     "data": {
      "text/plain": [
       "[<function lsagent.get_model_name(content='', params={}) -> str>,\n",
       " <function lsagent.sentiment_analysis(content, params)>,\n",
       " <function lsagent.categorization(content, params)>,\n",
       " <function lsagent.grammar_correction(content, params)>,\n",
       " <function lsagent.single_venue_itinerary(content, params)>,\n",
       " <function lsagent.single_venue_recommendations_public(content, params)>,\n",
       " <function lsagent.itinerary_public_text(content, params)>,\n",
       " <function lsagent.itinerary_object(content, params)>,\n",
       " <function lsagent.remind_me(content, params)>,\n",
       " <function lsagent.structure_request(content, params)>,\n",
       " <function __main__.use_mongo_db(content, params)>]"
      ]
     },
     "execution_count": 6,
     "metadata": {},
     "output_type": "execute_result"
    }
   ],
   "source": [
    "funct_list = list(ai_functions.values())\n",
    "funct_list"
   ]
  },
  {
   "cell_type": "code",
   "execution_count": 7,
   "id": "bd64d97e-92bc-4807-9b16-a2c9d3ff8346",
   "metadata": {},
   "outputs": [
    {
     "data": {
      "text/plain": [
       "[{'get_model_name': 'Returns the globally set openai model name'},\n",
       " {'sentiment_analysis': \"Defines a prompt for openai to perform sentiment analysis, sends request to openai and and \\n    returns result in a structured format.\\n    Parameters:\\n    content: customer's input\\n    params: application specific object, optional   \\n    \"},\n",
       " {'categorization': \"Defines a prompt for openai to perform categorization analysis, sends request to openai and and \\n    returns result in a structured format.\\n    Parameters:\\n    content: customer's input\\n    params: list of categories   \\n    \"},\n",
       " {'grammar_correction': \"Defines a prompt for openai to perform grammar correction, sends request to openai and \\n    returns as a string\\n    Parameters:\\n    content: customer's input\\n    params: application specific object, optional   \\n    \"},\n",
       " {'single_venue_itinerary': \"\\n    Generates a recommendation on a user request for a single point of interest based on user preferences and private recommendations of \\n    the user's friends. \\n    Parameters:\\n    content: customer's request\\n    params: object containing userID and approximate location \\n    Return: returns a list of points of interest selected accoring to the user's preferences and user's friends' recommendations.\\n    \"},\n",
       " {'single_venue_recommendations_public': \"\\n    Generates a recommendation on a user request for a single point of interest based on user preferences and publicly available sources\\n    Parameters:\\n    content: customer's request\\n    params: object containing userID and approximate location \\n    Return: returns a list of points of interest selected accoring to the user's preferences and publicly available sources.\\n    \"},\n",
       " {'itinerary_public_text': \"Generates travel itinerary as a travel agent. Defines and schedules activities, meals and accomodations based on user's request\\n    Parameters:\\n        content: user's request\\n        params: object containing userId, user's preferences and approximate location\\n    Return:\\n        text response in Markdown format\\n    \"},\n",
       " {'itinerary_object': 'Generates a structured JSON object for a travel itinerary from an unstructured travel itinerary description.\\n    Parameters:\\n        content: unstructured travel itinerary\\n    Return:\\n        JSON object representing itinerary according to a defined scheme. \\n    '},\n",
       " {'remind_me': \"Answers  user's question on names and places they documented over time. \\n    Parameters: \\n        content: user request\\n    Return:\\n        best guess of the name and location of the place user is asking about\\n    \"},\n",
       " {'structure_request': \"Identifies location of a point of interest, such as a restaurant, museum, vista point, etc. and a category it belongs to in an unstractured request and presents result \\n    as a structured object\\n    Parameters: \\n    content: user's unstructured request\\n    Return: object with a location and a category\\n    \"},\n",
       " {'use_mongo_db': \"Uses mongodb if the user's content contains only one of the two following options: \\n     1. location information of a place, \\n     2. location of a place and a category of the place \\n     Parameters:\\n        content: user's content\\n     Returns:\\n        true if the mongodb can be used\\n        false if mongodb cannot be used\\n     \"}]"
      ]
     },
     "execution_count": 7,
     "metadata": {},
     "output_type": "execute_result"
    }
   ],
   "source": [
    "flist = [{f.__name__ : f.__doc__} for f in funct_list]\n",
    "flist"
   ]
  },
  {
   "cell_type": "code",
   "execution_count": 8,
   "id": "b73993a4-7def-4b2a-984a-3098f3f749c6",
   "metadata": {},
   "outputs": [],
   "source": [
    "user = \"I am very moody today\"\n",
    "user = 'this is a very good restaurant'\n",
    "user = \"why is the sky blue\"\n",
    "user = 'Find me a good place for lunch'\n",
    "user = 'Find me a good place for lunch according to my friends recommendations'\n",
    "user = 'I am planning a trip to Korea'\n",
    "user = 'What was the restaurant I visited in Santa Clara last year?'\n",
    "user = 'Search Find a cafe in Santa Clara'\n",
    "user = 'cafe Santa Clara'\n",
    "messages = []\n",
    "messages.append({\"role\": \"system\", \"content\": \n",
    "                 f\"Select the best fitting function name from the list containing function names and function descriptins: {flist} \"})\n",
    "messages.append({\"role\": \"system\", \"content\": \n",
    "                 f\"Reply with the function name or null in case of no good fit\"})\n",
    "messages.append({\"role\": \"user\", \"content\": user})"
   ]
  },
  {
   "cell_type": "code",
   "execution_count": 9,
   "id": "67ecbe5b-45c9-4ccd-a23a-ab53bb01d24b",
   "metadata": {},
   "outputs": [
    {
     "name": "stdout",
     "output_type": "stream",
     "text": [
      "CPU times: user 69.5 ms, sys: 0 ns, total: 69.5 ms\n",
      "Wall time: 620 ms\n"
     ]
    }
   ],
   "source": [
    "%%time\n",
    "model = 'gpt-3.5-turbo'\n",
    "model = 'gpt-4o'\n",
    "response = client.chat.completions.create(\n",
    "        model=model,\n",
    "        temperature = 0,\n",
    "        seed = 1234,\n",
    "        messages=messages,\n",
    "        )\n",
    "answer = response.choices[0].message.content \n"
   ]
  },
  {
   "cell_type": "code",
   "execution_count": 10,
   "id": "1e8bb952-9927-4ce9-9959-3686c65db43e",
   "metadata": {},
   "outputs": [
    {
     "data": {
      "text/plain": [
       "'structure_request'"
      ]
     },
     "execution_count": 10,
     "metadata": {},
     "output_type": "execute_result"
    }
   ],
   "source": [
    "answer"
   ]
  },
  {
   "cell_type": "code",
   "execution_count": 11,
   "id": "6ac22d4b-a723-434a-b73c-3420c2cf654b",
   "metadata": {},
   "outputs": [
    {
     "name": "stdout",
     "output_type": "stream",
     "text": [
      "{'ip': '2600:1700:38c0:9110:a0e7:d339:af84:1e40', 'city': 'San Jose', 'region': 'California', 'country': 'US', 'loc': '37.3394,-121.8950', 'org': 'AS7018 AT&T Services, Inc.', 'postal': '95103', 'timezone': 'America/Los_Angeles', 'readme': 'https://ipinfo.io/missingauth'}\n"
     ]
    }
   ],
   "source": [
    "import requests\n",
    "\n",
    "ip_address = \"2600:1700:38c0:9110:a0e7:d339:af84:1e40\"\n",
    "response = requests.get(f\"https://ipinfo.io/{ip_address}/json\")\n",
    "data = response.json()\n",
    "\n",
    "print(data)\n"
   ]
  },
  {
   "cell_type": "code",
   "execution_count": null,
   "id": "366e8f9c-98d7-42d2-99b4-dc3957dc4079",
   "metadata": {},
   "outputs": [],
   "source": []
  }
 ],
 "metadata": {
  "kernelspec": {
   "display_name": "Python 3 (ipykernel)",
   "language": "python",
   "name": "python3"
  },
  "language_info": {
   "codemirror_mode": {
    "name": "ipython",
    "version": 3
   },
   "file_extension": ".py",
   "mimetype": "text/x-python",
   "name": "python",
   "nbconvert_exporter": "python",
   "pygments_lexer": "ipython3",
   "version": "3.10.12"
  }
 },
 "nbformat": 4,
 "nbformat_minor": 5
}
