{
 "cells": [
  {
   "cell_type": "markdown",
   "id": "b2fb2f6a-100a-4ab2-a5af-593b0a3a90b7",
   "metadata": {},
   "source": [
    "# Function Calls"
   ]
  },
  {
   "cell_type": "code",
   "execution_count": null,
   "id": "beefcc7b-d7d4-483b-a4b0-5dbeaaa0aad8",
   "metadata": {},
   "outputs": [],
   "source": [
    "import requests\n",
    "import json\n",
    "import os\n",
    "import openai\n",
    "import ls_nb_utils as lsutils\n",
    "import lsagent as ls\n",
    "\n",
    "from http.client import HTTPConnection\n",
    "from importlib import reload\n",
    "import copy\n",
    "import math"
   ]
  },
  {
   "cell_type": "code",
   "execution_count": null,
   "id": "8aa99e2d-fbd2-40db-9c29-f107ed1bf163",
   "metadata": {},
   "outputs": [],
   "source": [
    "openai.api_key  = os.environ['OPENAI_API_KEY']\n",
    "client = openai.OpenAI()\n"
   ]
  },
  {
   "cell_type": "code",
   "execution_count": null,
   "id": "c9cdddd3-a31e-43b0-9600-e192d0dd5f44",
   "metadata": {},
   "outputs": [],
   "source": [
    "reload(ls)"
   ]
  },
  {
   "cell_type": "code",
   "execution_count": null,
   "id": "e195220a-279e-4b52-805b-b368e3f11741",
   "metadata": {},
   "outputs": [],
   "source": [
    "def use_mongo_db(content, params):\n",
    "    '''Uses mongodb if the user's content contains only one of the two following options: \n",
    "     1. location information of a place, \n",
    "     2. location of a place and a category of the place \n",
    "     Parameters:\n",
    "        content: user's content\n",
    "     Returns:\n",
    "        true if the mongodb can be used\n",
    "        false if mongodb cannot be used\n",
    "     '''\n",
    "    return true\n"
   ]
  },
  {
   "cell_type": "code",
   "execution_count": null,
   "id": "62835313-ce35-4df7-b106-693880eaca71",
   "metadata": {},
   "outputs": [],
   "source": [
    "ai_functions = {'get_model_name': ls.get_model_name,\n",
    "                'sentiment_analysis': ls.sentiment_analysis,\n",
    "                    'categorization': ls.categorization,\n",
    "                    'grammar_correction':ls.grammar_correction,\n",
    "                    'single_venue_itinerary':ls.single_venue_itinerary,\n",
    "                    'single_venue_recommendations_public':ls.single_venue_recommendations_public,\n",
    "                    'itinerary_public_text':ls.itinerary_public_text,\n",
    "                    'itinerary_object': ls.itinerary_object,\n",
    "                    'remind_me': ls.remind_me,\n",
    "                    'structure_request': ls.structure_request,\n",
    "                } \n",
    "ai_functions['use_mongo_db'] = use_mongo_db"
   ]
  },
  {
   "cell_type": "code",
   "execution_count": null,
   "id": "ab0120fd-6654-44c6-9111-a4a442136eef",
   "metadata": {},
   "outputs": [],
   "source": [
    "funct_list = list(ai_functions.values())\n",
    "funct_list"
   ]
  },
  {
   "cell_type": "code",
   "execution_count": null,
   "id": "bd64d97e-92bc-4807-9b16-a2c9d3ff8346",
   "metadata": {},
   "outputs": [],
   "source": [
    "flist = [{f.__name__ : f.__doc__} for f in funct_list]\n",
    "flist"
   ]
  },
  {
   "cell_type": "code",
   "execution_count": null,
   "id": "b73993a4-7def-4b2a-984a-3098f3f749c6",
   "metadata": {},
   "outputs": [],
   "source": [
    "user = \"I am very moody today\"\n",
    "user = 'this is a very good restaurant'\n",
    "user = \"why is the sky blue\"\n",
    "user = 'Find me a good place for lunch'\n",
    "user = 'Find me a good place for lunch according to my friends recommendations'\n",
    "user = 'I am planning a trip to Korea'\n",
    "user = 'What was the restaurant I visited in Santa Clara last year?'\n",
    "user = 'Search Find a cafe in Santa Clara'\n",
    "user = 'cafe Santa Clara'\n",
    "messages = []\n",
    "messages.append({\"role\": \"system\", \"content\": \n",
    "                 f\"Select the best fitting function name from the list containing function names and function descriptins: {flist} \"})\n",
    "messages.append({\"role\": \"system\", \"content\": \n",
    "                 f\"Reply with the function name or null in case of no good fit\"})\n",
    "messages.append({\"role\": \"user\", \"content\": user})"
   ]
  },
  {
   "cell_type": "code",
   "execution_count": null,
   "id": "67ecbe5b-45c9-4ccd-a23a-ab53bb01d24b",
   "metadata": {},
   "outputs": [],
   "source": [
    "%%time\n",
    "model = 'gpt-3.5-turbo'\n",
    "model = 'gpt-4o'\n",
    "response = client.chat.completions.create(\n",
    "        model=model,\n",
    "        temperature = 0,\n",
    "        seed = 1234,\n",
    "        messages=messages,\n",
    "        )\n",
    "answer = response.choices[0].message.content \n"
   ]
  },
  {
   "cell_type": "code",
   "execution_count": null,
   "id": "1e8bb952-9927-4ce9-9959-3686c65db43e",
   "metadata": {},
   "outputs": [],
   "source": [
    "answer"
   ]
  },
  {
   "cell_type": "code",
   "execution_count": null,
   "id": "6ac22d4b-a723-434a-b73c-3420c2cf654b",
   "metadata": {},
   "outputs": [],
   "source": [
    "import requests\n",
    "\n",
    "ip_address = \"2600:1700:38c0:9110:a0e7:d339:af84:1e40\"\n",
    "response = requests.get(f\"https://ipinfo.io/{ip_address}/json\")\n",
    "data = response.json()\n",
    "\n",
    "print(data)\n"
   ]
  },
  {
   "cell_type": "code",
   "execution_count": null,
   "id": "366e8f9c-98d7-42d2-99b4-dc3957dc4079",
   "metadata": {},
   "outputs": [],
   "source": []
  }
 ],
 "metadata": {
  "kernelspec": {
   "display_name": "Python 3 (ipykernel)",
   "language": "python",
   "name": "python3"
  },
  "language_info": {
   "codemirror_mode": {
    "name": "ipython",
    "version": 3
   },
   "file_extension": ".py",
   "mimetype": "text/x-python",
   "name": "python",
   "nbconvert_exporter": "python",
   "pygments_lexer": "ipython3",
   "version": "3.10.12"
  }
 },
 "nbformat": 4,
 "nbformat_minor": 5
}
