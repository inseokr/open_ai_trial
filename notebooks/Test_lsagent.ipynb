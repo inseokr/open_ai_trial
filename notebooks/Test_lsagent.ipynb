{
 "cells": [
  {
   "cell_type": "code",
   "execution_count": null,
   "id": "238f35ca",
   "metadata": {},
   "outputs": [],
   "source": [
    "import requests\n",
    "import json\n",
    "import os"
   ]
  },
  {
   "cell_type": "code",
   "execution_count": null,
   "id": "88292f5d-e6f3-4d4d-b9a6-ba501eff7c6b",
   "metadata": {},
   "outputs": [],
   "source": [
    "# ! pip install certifi"
   ]
  },
  {
   "cell_type": "code",
   "execution_count": null,
   "id": "c4465920-b864-41db-b074-90c5bdf143ab",
   "metadata": {},
   "outputs": [],
   "source": [
    "import certifi"
   ]
  },
  {
   "cell_type": "code",
   "execution_count": null,
   "id": "1c24e121",
   "metadata": {},
   "outputs": [],
   "source": [
    "srv_url = 'http://127.0.0.1:5000'\n",
    "srv_url = 'https://ls-agent-cd78b4dee2fb.herokuapp.com'"
   ]
  },
  {
   "cell_type": "markdown",
   "id": "f6a952c7",
   "metadata": {},
   "source": [
    "### Test"
   ]
  },
  {
   "cell_type": "code",
   "execution_count": null,
   "id": "4d58e435-88c8-456e-a554-5c579154b57e",
   "metadata": {},
   "outputs": [],
   "source": [
    "def test_get (msg, url = srv_url):\n",
    "    url = f'{url}/{msg}'\n",
    "    rsp = requests.get(url, verify=certifi.where())\n",
    "    print(rsp.status_code)\n",
    "    try:\n",
    "        print(json.dumps(rsp.json()))\n",
    "    except Exception as e:\n",
    "        print(str(e))\n",
    "    return"
   ]
  },
  {
   "cell_type": "code",
   "execution_count": null,
   "id": "7dad6ae7-f0b6-42f7-9d89-150ae3a46f1a",
   "metadata": {},
   "outputs": [],
   "source": [
    "def test_post (msg, path, url = srv_url):\n",
    "    headers = {\n",
    "    \"Content-Type\": \"application/json\"\n",
    "    }\n",
    "    url = f'{url}/{path}'\n",
    "    response = requests.post(url, json={\"question\": msg}, headers=headers)\n",
    "    data = response.json()\n",
    "    answer = data.get('answer', 'No answer received')\n",
    "    print(f\"Answer: {answer}\")\n",
    "    return"
   ]
  },
  {
   "cell_type": "code",
   "execution_count": null,
   "id": "506f321a-948a-4253-9fb1-5ae5d1b2d05d",
   "metadata": {},
   "outputs": [],
   "source": [
    "test_get('')"
   ]
  },
  {
   "cell_type": "code",
   "execution_count": null,
   "id": "00c703ae-9fa2-4cbc-b32a-45230115eb2e",
   "metadata": {},
   "outputs": [],
   "source": [
    "test_post('What is Rayleigh scattering?','openai-direct')"
   ]
  },
  {
   "cell_type": "code",
   "execution_count": null,
   "id": "d98ef558-ef80-41ee-b48c-77f2beec2365",
   "metadata": {},
   "outputs": [],
   "source": [
    "test_post('What is the shortest way to travel from San Jose to Los Angeles by car?','openai-direct')"
   ]
  },
  {
   "cell_type": "code",
   "execution_count": null,
   "id": "42ed1fc1-bc23-44cb-8d12-f638ec8e81d8",
   "metadata": {},
   "outputs": [],
   "source": [
    "test_post('When was Microsoft founded?','openai-direct')"
   ]
  },
  {
   "cell_type": "code",
   "execution_count": null,
   "id": "d0d992b2-988f-4a16-a2c2-820eca03dcc4",
   "metadata": {},
   "outputs": [],
   "source": [
    "test_post('Tell me the history of Microsoft in 100 words','openai-direct')"
   ]
  },
  {
   "cell_type": "code",
   "execution_count": null,
   "id": "15ca69b4-b01a-481c-aba4-c947ec5bc837",
   "metadata": {},
   "outputs": [],
   "source": [
    "test_post('What does EPAM software company do?','openai-direct')"
   ]
  },
  {
   "cell_type": "code",
   "execution_count": null,
   "id": "eab1901a-1af0-45e3-988e-dcfaaedf7ca2",
   "metadata": {},
   "outputs": [],
   "source": [
    "test_post('What is the title and authors of the paper on transformers?','openai-direct')"
   ]
  },
  {
   "cell_type": "code",
   "execution_count": null,
   "id": "380d055a",
   "metadata": {},
   "outputs": [],
   "source": []
  }
 ],
 "metadata": {
  "kernelspec": {
   "display_name": "Python 3 (ipykernel)",
   "language": "python",
   "name": "python3"
  },
  "language_info": {
   "codemirror_mode": {
    "name": "ipython",
    "version": 3
   },
   "file_extension": ".py",
   "mimetype": "text/x-python",
   "name": "python",
   "nbconvert_exporter": "python",
   "pygments_lexer": "ipython3",
   "version": "3.10.12"
  }
 },
 "nbformat": 4,
 "nbformat_minor": 5
}
