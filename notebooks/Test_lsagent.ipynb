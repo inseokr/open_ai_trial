{
 "cells": [
  {
   "cell_type": "markdown",
   "id": "84b7aba3-2bac-4ea0-a9ed-cc4a0f30fb30",
   "metadata": {},
   "source": [
    "# Notebook for testing ls agent API both locally and remotely"
   ]
  },
  {
   "cell_type": "code",
   "execution_count": null,
   "id": "238f35ca",
   "metadata": {},
   "outputs": [],
   "source": [
    "import requests\n",
    "import json\n",
    "import os\n",
    "import jwt\n",
    "import openai"
   ]
  },
  {
   "cell_type": "code",
   "execution_count": null,
   "id": "6b300fdb-f970-4b39-9718-1da9c7ba27c5",
   "metadata": {},
   "outputs": [],
   "source": [
    "openai.api_key  = os.environ['OPENAI_API_KEY']\n",
    "\n",
    "client = openai.OpenAI()\n"
   ]
  },
  {
   "cell_type": "code",
   "execution_count": null,
   "id": "88292f5d-e6f3-4d4d-b9a6-ba501eff7c6b",
   "metadata": {},
   "outputs": [],
   "source": [
    "# ! pip install certifi"
   ]
  },
  {
   "cell_type": "code",
   "execution_count": null,
   "id": "c4465920-b864-41db-b074-90c5bdf143ab",
   "metadata": {},
   "outputs": [],
   "source": [
    "import certifi"
   ]
  },
  {
   "cell_type": "markdown",
   "id": "1d66b64c-5840-4995-86d1-ded35f7754dc",
   "metadata": {},
   "source": [
    "## Make sure the environmental variables setup to appropriate values\n",
    "After that restart the jupyter notebook server"
   ]
  },
  {
   "cell_type": "code",
   "execution_count": null,
   "id": "dfd74069-8b4a-4b9a-b762-760d26aa26c7",
   "metadata": {},
   "outputs": [],
   "source": [
    "ls_app_url =  'http://pocketverse.herokuapp.com/LS_API'\n",
    "ls_app_username = os.environ['LS_USERNAME']\n",
    "ls_app_password = os.environ['LS_PASSWORD']\n",
    "ls_app_username, ls_app_password"
   ]
  },
  {
   "cell_type": "code",
   "execution_count": null,
   "id": "1c24e121",
   "metadata": {},
   "outputs": [],
   "source": [
    "ls_agent_url_local = 'http://127.0.0.1:5000'\n",
    "ls_agent_ulr_remote = 'https://ls-agent-cd78b4dee2fb.herokuapp.com'\n",
    "BASE_URL = ls_agent_ulr_remote\n",
    "# BASE_URL = ls_agent_url_local\n",
    "print (f'Testing ls agent on {BASE_URL}')"
   ]
  },
  {
   "cell_type": "markdown",
   "id": "f6a952c7",
   "metadata": {},
   "source": [
    "## Test utils and basic tests"
   ]
  },
  {
   "cell_type": "code",
   "execution_count": null,
   "id": "32101fef-1365-49c8-a436-2cba8021a5d8",
   "metadata": {},
   "outputs": [],
   "source": [
    "import base64\n",
    "import json\n",
    "\n",
    "def decode_jwt(token):\n",
    "    header, payload, signature = token.split('.')\n",
    "    header_decoded = base64.urlsafe_b64decode(add_padding(header)).decode('utf-8')\n",
    "    payload_decoded = base64.urlsafe_b64decode(add_padding(payload)).decode('utf-8')\n",
    "\n",
    "    return {\n",
    "        \"header\": json.loads(header_decoded),\n",
    "        \"payload\": json.loads(payload_decoded),\n",
    "        \"signature\": signature\n",
    "    }\n",
    "\n",
    "def add_padding(str):\n",
    "    \"\"\"Adds padding to the Base64 encoded string to make it valid.\"\"\"\n",
    "    return str + '=' * (4 - len(str) % 4)"
   ]
  },
  {
   "cell_type": "code",
   "execution_count": null,
   "id": "76ed8101-dd78-4eed-934d-4fbbc0423b41",
   "metadata": {},
   "outputs": [],
   "source": []
  },
  {
   "cell_type": "code",
   "execution_count": null,
   "id": "4d58e435-88c8-456e-a554-5c579154b57e",
   "metadata": {},
   "outputs": [],
   "source": [
    "def test_ls_get (route, url = BASE_URL, token = ''):\n",
    "    \"\"\" Function to access unprotected and protected route using the JWT token. \"\"\"\n",
    "    url = f'{url}/{route}'\n",
    "    headers = {'Authorization': f'Bearer {token}'}\n",
    "    rsp = requests.get(url, headers = headers, verify=certifi.where())\n",
    "    print(rsp.status_code)\n",
    "    try:\n",
    "        print(json.dumps(rsp.json()))\n",
    "    except Exception as e:\n",
    "        print(str(e))\n",
    "    return\n"
   ]
  },
  {
   "cell_type": "code",
   "execution_count": null,
   "id": "117c2821-4741-4354-83bd-d898ff0bac7f",
   "metadata": {},
   "outputs": [],
   "source": [
    "test_ls_get('')"
   ]
  },
  {
   "cell_type": "code",
   "execution_count": null,
   "id": "b9f40d6c-999b-4248-b086-9d01e51f2962",
   "metadata": {},
   "outputs": [],
   "source": [
    "def get_access_token(username, password, login, url = BASE_URL):\n",
    "    \"\"\" Function to authenticate and receive access token from the server. \"\"\"\n",
    "    url_r = f\"{url}/{login}\"\n",
    "    js =  {\"username\": username, \n",
    "           \"password\": password, \n",
    "           \"reportLoginResult\": \"true\"}\n",
    "    print (url_r)\n",
    "    response = requests.post(url_r,json = js)\n",
    "    if response.status_code == 200:\n",
    "        return response.json()\n",
    "    else:\n",
    "        print (response.status_code, response.json())\n",
    "        raise Exception(\"Failed to authenticate\")"
   ]
  },
  {
   "cell_type": "code",
   "execution_count": null,
   "id": "6a010a60-4a27-478c-8852-2fcbded111b8",
   "metadata": {},
   "outputs": [],
   "source": [
    "resp_agent = get_access_token(ls_app_username, ls_app_password, 'login')\n",
    "resp_agent "
   ]
  },
  {
   "cell_type": "code",
   "execution_count": null,
   "id": "743467b2-7a79-4081-abcb-b91cf3db5e16",
   "metadata": {},
   "outputs": [],
   "source": [
    "resp_app = get_access_token(ls_app_username, ls_app_password, 'jwt_login', url = ls_app_url)\n",
    "resp_app"
   ]
  },
  {
   "cell_type": "code",
   "execution_count": null,
   "id": "7dad6ae7-f0b6-42f7-9d89-150ae3a46f1a",
   "metadata": {},
   "outputs": [],
   "source": [
    "def test_ls_post (data_out: dict, route: str, url = BASE_URL, token = '')-> str:\n",
    "    headers = {\n",
    "    \"Content-Type\": \"application/json\",\n",
    "    'Authorization': f'Bearer {token}'\n",
    "    }\n",
    "    url = f'{url}/{route}'\n",
    "    response = requests.post(url, json=data_out, headers=headers)\n",
    "    if response.status_code == 200:\n",
    "        data = response.json()\n",
    "        answer = data.get('answer', 'No answer received')\n",
    "        return f\"Answer: {answer}\"\n",
    "    else:\n",
    "        print (response.status_code, response.json())\n",
    "        raise Exception(\"Failed to authenticate\")\n",
    "    return\n",
    "    \n"
   ]
  },
  {
   "cell_type": "code",
   "execution_count": null,
   "id": "3a76e9cf-f8e6-438f-baca-33693f44d2b8",
   "metadata": {},
   "outputs": [],
   "source": [
    "\n",
    "def access_route(token, route, url = BASE_URL):\n",
    "    \"\"\" Function to access a protected route using the JWT token. \"\"\"\n",
    "    headers = {'Authorization': f'Bearer {token}'}\n",
    "    response = requests.get(f\"{BASE_URL}/{route}\", headers=headers)\n",
    "    return response.text\n"
   ]
  },
  {
   "cell_type": "markdown",
   "id": "1c6fa555-4992-49ea-b276-d7fdd9709f4e",
   "metadata": {},
   "source": [
    "## Use pocket app token to access protected route on ls-agent"
   ]
  },
  {
   "cell_type": "code",
   "execution_count": null,
   "id": "f284818f-4455-4710-8ab2-e19cf16a000b",
   "metadata": {},
   "outputs": [],
   "source": [
    "token_pocket = resp_app['token']\n",
    "access_route(token_pocket, 'protected')"
   ]
  },
  {
   "cell_type": "markdown",
   "id": "3838732a-d66c-42b9-ba29-7b294cc25727",
   "metadata": {},
   "source": [
    "## Acess protected route on ls-agent with dummy token. Should fail"
   ]
  },
  {
   "cell_type": "code",
   "execution_count": null,
   "id": "284e6d07-e581-426c-b4b3-8171e8f6e2dd",
   "metadata": {},
   "outputs": [],
   "source": [
    "access_route('blabla.fff.gg', 'protected')"
   ]
  },
  {
   "cell_type": "markdown",
   "id": "d6e7f5d4-5632-425d-be41-4cbb5648f180",
   "metadata": {},
   "source": [
    "## Tests"
   ]
  },
  {
   "cell_type": "code",
   "execution_count": null,
   "id": "506f321a-948a-4253-9fb1-5ae5d1b2d05d",
   "metadata": {},
   "outputs": [],
   "source": [
    "test_ls_get('')"
   ]
  },
  {
   "cell_type": "code",
   "execution_count": null,
   "id": "1aa77dad-0f94-4ef3-bb1d-9a3605d0c085",
   "metadata": {},
   "outputs": [],
   "source": [
    "test_ls_get('protected', token = token_pocket)"
   ]
  },
  {
   "cell_type": "markdown",
   "id": "7b7a5bc5-9041-4e94-b901-42c6823f9499",
   "metadata": {},
   "source": [
    "### Make sure openai is on"
   ]
  },
  {
   "cell_type": "code",
   "execution_count": null,
   "id": "dab03582-d93e-4573-aade-67ca1a33130d",
   "metadata": {},
   "outputs": [],
   "source": [
    "data_out = {\"question\":\"Why is the sky blue? Answer in 15 words\"}\n",
    "question = data_out['question']\n",
    "print (f'Question: {question}')\n",
    "response = client.chat.completions.create(\n",
    "                model=\"gpt-3.5-turbo-0613\",\n",
    "                temperature = 0,\n",
    "                messages=[\n",
    "                        {\"role\": \"system\", \"content\": \"You are a helpful assistant.\"},\n",
    "                        {\"role\": \"user\", \"content\": question}\n",
    "                        ]\n",
    "                )\n",
    "answer = response.choices[0].message.content\n",
    "print (f'Answer: {answer}')"
   ]
  },
  {
   "cell_type": "markdown",
   "id": "208244c7-e11d-4b64-a138-0650ab57ac78",
   "metadata": {},
   "source": [
    "### Testing unprotected route"
   ]
  },
  {
   "cell_type": "code",
   "execution_count": null,
   "id": "2f4ec44e-a922-4111-b9b1-b524fef086b0",
   "metadata": {},
   "outputs": [],
   "source": [
    "data_out = {\"question\":\"What's your name?\"}\n",
    "answer = test_ls_post(data_out,'openai-direct')\n",
    "print (f'Answer: {answer}')"
   ]
  },
  {
   "cell_type": "markdown",
   "id": "6e1ef82c-df06-4d9d-81b6-9dba15ab35b0",
   "metadata": {},
   "source": [
    "### Testing protected route without a token. It should fail"
   ]
  },
  {
   "cell_type": "code",
   "execution_count": null,
   "id": "d55de01a-66c1-4993-be33-97e361fbcdd0",
   "metadata": {},
   "outputs": [],
   "source": [
    "data_out = {\"question\":\"What is Python language? Answer in 15 words\"}\n",
    "test_ls_post(data_out,'openai-direct-protected')"
   ]
  },
  {
   "cell_type": "markdown",
   "id": "b2894b91-f45b-4d6d-9a2e-52349821ece5",
   "metadata": {},
   "source": [
    "### Testing the same with the token. Should work"
   ]
  },
  {
   "cell_type": "code",
   "execution_count": null,
   "id": "a72da548-e8c3-479d-917e-d81f34848250",
   "metadata": {},
   "outputs": [],
   "source": [
    "test_ls_post(data_out,'openai-direct-protected', token = token_pocket)"
   ]
  },
  {
   "cell_type": "code",
   "execution_count": null,
   "id": "380d055a",
   "metadata": {},
   "outputs": [],
   "source": []
  }
 ],
 "metadata": {
  "kernelspec": {
   "display_name": "Python 3 (ipykernel)",
   "language": "python",
   "name": "python3"
  },
  "language_info": {
   "codemirror_mode": {
    "name": "ipython",
    "version": 3
   },
   "file_extension": ".py",
   "mimetype": "text/x-python",
   "name": "python",
   "nbconvert_exporter": "python",
   "pygments_lexer": "ipython3",
   "version": "3.10.12"
  }
 },
 "nbformat": 4,
 "nbformat_minor": 5
}
