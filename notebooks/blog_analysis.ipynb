{
 "cells": [
  {
   "cell_type": "markdown",
   "id": "4f474197-916b-4c51-a77b-14eabbab98a9",
   "metadata": {},
   "source": [
    "# Blog Analysis API"
   ]
  },
  {
   "cell_type": "code",
   "execution_count": 1,
   "id": "0d3dedf7-b5af-446e-94de-3eac69867614",
   "metadata": {},
   "outputs": [],
   "source": [
    "import json"
   ]
  },
  {
   "cell_type": "code",
   "execution_count": 6,
   "id": "ad449e3e-aaaf-4c71-9cf2-b88de6780db3",
   "metadata": {},
   "outputs": [],
   "source": [
    "def pretty(obj):\n",
    "    print (json.dumps(obj, indent = 2))"
   ]
  },
  {
   "cell_type": "code",
   "execution_count": 21,
   "id": "00b8554e-9309-4e76-b645-98c8d7b8be4f",
   "metadata": {},
   "outputs": [
    {
     "name": "stdout",
     "output_type": "stream",
     "text": [
      "[\n",
      "  {\n",
      "    \"picture1\": {\n",
      "      \"caption\": \"a caption or None\",\n",
      "      \"picture_id\": 789,\n",
      "      \"img\": \"url\",\n",
      "      \"task\": [\n",
      "        \"picture_task\"\n",
      "      ]\n",
      "    }\n",
      "  }\n",
      "]\n"
     ]
    }
   ],
   "source": [
    "d_pic = {\"picture1\": {\"caption\":\"a caption or None\",\n",
    "                      \"picture_id\" : 789,\n",
    "                      \"img\" : \"url\",\n",
    "                      \"task\": [\"picture_task\"]}}\n",
    "pics = [d_pic]\n",
    "pretty(pics)"
   ]
  },
  {
   "cell_type": "code",
   "execution_count": 22,
   "id": "665b3c3a-5447-4b57-9403-dde16cf78ad0",
   "metadata": {},
   "outputs": [
    {
     "name": "stdout",
     "output_type": "stream",
     "text": [
      "[\n",
      "  {\n",
      "    \"location1\": {\n",
      "      \"location_id\": 12345,\n",
      "      \"location_story\": \"location story or string None\",\n",
      "      \"pics\": [\n",
      "        {\n",
      "          \"picture1\": {\n",
      "            \"caption\": \"a caption or None\",\n",
      "            \"picture_id\": 789,\n",
      "            \"img\": \"url\",\n",
      "            \"task\": [\n",
      "              \"picture_task\"\n",
      "            ]\n",
      "          }\n",
      "        }\n",
      "      ],\n",
      "      \"task\": [\n",
      "        \"location_task\"\n",
      "      ]\n",
      "    }\n",
      "  }\n",
      "]\n"
     ]
    }
   ],
   "source": [
    "d_location = {\"location1\": {\"location_id\": 12345,\n",
    "                            \"location_story\":\"location story or string None\", \n",
    "                            \"pics\":pics, \n",
    "                            \"task\": [\"location_task\"]}}\n",
    "locations = [d_location]\n",
    "pretty(locations)"
   ]
  },
  {
   "cell_type": "code",
   "execution_count": 23,
   "id": "83018d01-94f8-40bd-8521-0c8c2dab0df2",
   "metadata": {},
   "outputs": [
    {
     "name": "stdout",
     "output_type": "stream",
     "text": [
      "[\n",
      "  {\n",
      "    \"day1\": {\n",
      "      \"day_story\": \"day story or string None\",\n",
      "      \"locations\": [\n",
      "        {\n",
      "          \"location1\": {\n",
      "            \"location_id\": 12345,\n",
      "            \"location_story\": \"location story or string None\",\n",
      "            \"pics\": [\n",
      "              {\n",
      "                \"picture1\": {\n",
      "                  \"caption\": \"a caption or None\",\n",
      "                  \"picture_id\": 789,\n",
      "                  \"img\": \"url\",\n",
      "                  \"task\": [\n",
      "                    \"picture_task\"\n",
      "                  ]\n",
      "                }\n",
      "              }\n",
      "            ],\n",
      "            \"task\": [\n",
      "              \"location_task\"\n",
      "            ]\n",
      "          }\n",
      "        }\n",
      "      ]\n",
      "    }\n",
      "  }\n",
      "]\n"
     ]
    }
   ],
   "source": [
    "d_day = {\"day1\": {\"day_story\": \"day story or string None\", \"locations\":locations}}\n",
    "days = [d_day]\n",
    "pretty(days)"
   ]
  },
  {
   "cell_type": "code",
   "execution_count": 24,
   "id": "7424523f-bcc2-4a74-b4d9-1469157e61ef",
   "metadata": {},
   "outputs": [
    {
     "name": "stdout",
     "output_type": "stream",
     "text": [
      "{\n",
      "  \"type\": \"blog_analysis\",\n",
      "  \"blog\": {\n",
      "    \"summary\": \"a summary or a string None\",\n",
      "    \"days\": [\n",
      "      {\n",
      "        \"day1\": {\n",
      "          \"day_story\": \"day story or string None\",\n",
      "          \"locations\": [\n",
      "            {\n",
      "              \"location1\": {\n",
      "                \"location_id\": 12345,\n",
      "                \"location_story\": \"location story or string None\",\n",
      "                \"pics\": [\n",
      "                  {\n",
      "                    \"picture1\": {\n",
      "                      \"caption\": \"a caption or None\",\n",
      "                      \"picture_id\": 789,\n",
      "                      \"img\": \"url\",\n",
      "                      \"task\": [\n",
      "                        \"picture_task\"\n",
      "                      ]\n",
      "                    }\n",
      "                  }\n",
      "                ],\n",
      "                \"task\": [\n",
      "                  \"location_task\"\n",
      "                ]\n",
      "              }\n",
      "            }\n",
      "          ]\n",
      "        }\n",
      "      }\n",
      "    ],\n",
      "    \"task\": \"summary_task\",\n",
      "    \"for_each\": {\n",
      "      \"node_type\": \"caption\",\n",
      "      \"task\": \"caption_task\"\n",
      "    }\n",
      "  }\n",
      "}\n"
     ]
    }
   ],
   "source": [
    "d_blog = {\"type\":\"blog_analysis\",\n",
    "          \"blog\": {\"summary\": \"a summary or a string None\",\n",
    "                   \"days\": days,\n",
    "                   \"task\": \"summary_task\",\n",
    "                   \"for_each\": {\"node_type\":\"caption\", \"task\":\"caption_task\"}\n",
    "                  }\n",
    "         }\n",
    "pretty(d_blog)"
   ]
  },
  {
   "cell_type": "markdown",
   "id": "d6db960e-c454-4597-a8bf-f5ba1f56323e",
   "metadata": {},
   "source": [
    "## Request for a blog summary grammar correction and sentiment analysis"
   ]
  },
  {
   "cell_type": "code",
   "execution_count": 25,
   "id": "9b7ba9b4-6970-4250-a06a-97303c3a5d6e",
   "metadata": {},
   "outputs": [
    {
     "name": "stdout",
     "output_type": "stream",
     "text": [
      "{\n",
      "  \"type\": \"blog_analysis\",\n",
      "  \"blog\": {\n",
      "    \"summary\": \"a summary or a string None\",\n",
      "    \"task\": [\n",
      "      {\n",
      "        \"task_name\": \"grammar_correction\",\n",
      "        \"params\": {\n",
      "          \"style\": \"formal\"\n",
      "        }\n",
      "      },\n",
      "      {\n",
      "        \"task_name\": \"sentiment_analysis\",\n",
      "        \"params\": {\n",
      "          \"scale\": 10\n",
      "        }\n",
      "      }\n",
      "    ]\n",
      "  }\n",
      "}\n"
     ]
    }
   ],
   "source": [
    "d_blog = {\"type\":\"blog_analysis\",\n",
    "          \"blog\": {\"summary\": \"a summary or a string None\",\n",
    "                   \"task\": [{\"task_name\": \"grammar_correction\", \"params\":{\"style\":\"formal\"}} , {\"task_name\":\"sentiment_analysis\", \n",
    "                                                                                                \"params\": {\"scale\": 10}\n",
    "                                                                                               }]\n",
    "                  }\n",
    "         }\n",
    "pretty(d_blog)"
   ]
  },
  {
   "cell_type": "markdown",
   "id": "b4eccdbb-f4f5-40c3-af28-60f2c9650b14",
   "metadata": {},
   "source": [
    "## Request for a grammar correction of a caption of picture with a picture_id = 7234, taken on day 3 in location_id = 2233"
   ]
  },
  {
   "cell_type": "code",
   "execution_count": 31,
   "id": "aad4200f-61de-4277-8d36-3f8853d3f1f0",
   "metadata": {},
   "outputs": [
    {
     "name": "stdout",
     "output_type": "stream",
     "text": [
      "{\n",
      "  \"type\": \"blog_analysis\",\n",
      "  \"blog\": {\n",
      "    \"days\": [\n",
      "      {\n",
      "        \"day3\": {\n",
      "          \"locations\": [\n",
      "            {\n",
      "              \"location1\": {\n",
      "                \"location_id\": 2233,\n",
      "                \"pics\": [\n",
      "                  {\n",
      "                    \"picture1\": {\n",
      "                      \"caption\": \"not grammatically correct caption\",\n",
      "                      \"picture_id\": 7234,\n",
      "                      \"task\": [\n",
      "                        {\n",
      "                          \"task_name\": \"grammar_correction\"\n",
      "                        }\n",
      "                      ]\n",
      "                    }\n",
      "                  }\n",
      "                ]\n",
      "              }\n",
      "            }\n",
      "          ]\n",
      "        }\n",
      "      }\n",
      "    ]\n",
      "  }\n",
      "}\n"
     ]
    }
   ],
   "source": [
    "task = [{\"task_name\": \"grammar_correction\"}]\n",
    "\n",
    "pics = [{\"picture1\": {\"caption\":\"not grammatically correct caption\",\n",
    "                      \"picture_id\" : 7234,\n",
    "                      \"task\": task}}]\n",
    "locations = [{\"location1\": {\"location_id\": 2233,\n",
    "                            \"pics\":pics}}]\n",
    "\n",
    "days = [{\"day3\": {\"locations\":locations}}]\n",
    "d_blog = {\"type\":\"blog_analysis\",\n",
    "          \"blog\": {\"days\":days}\n",
    "         }\n",
    "                   \n",
    "pretty(d_blog)                  "
   ]
  },
  {
   "cell_type": "code",
   "execution_count": null,
   "id": "81908945-156f-4487-beed-7910db8da588",
   "metadata": {},
   "outputs": [],
   "source": []
  },
  {
   "cell_type": "code",
   "execution_count": null,
   "id": "1347ad16-7613-4488-a6cd-c89c1fd47a1b",
   "metadata": {},
   "outputs": [],
   "source": []
  }
 ],
 "metadata": {
  "kernelspec": {
   "display_name": "Python 3 (ipykernel)",
   "language": "python",
   "name": "python3"
  },
  "language_info": {
   "codemirror_mode": {
    "name": "ipython",
    "version": 3
   },
   "file_extension": ".py",
   "mimetype": "text/x-python",
   "name": "python",
   "nbconvert_exporter": "python",
   "pygments_lexer": "ipython3",
   "version": "3.10.12"
  }
 },
 "nbformat": 4,
 "nbformat_minor": 5
}
