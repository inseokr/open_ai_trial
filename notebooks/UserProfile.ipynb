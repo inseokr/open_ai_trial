{
 "cells": [
  {
   "cell_type": "markdown",
   "id": "4b9d0ed6-2b2c-4260-8eac-7d3b4d68317d",
   "metadata": {},
   "source": [
    "# Build user profile based on a user data"
   ]
  },
  {
   "cell_type": "code",
   "execution_count": null,
   "id": "990c3b78-9c1f-44bb-8070-62f97c1d3354",
   "metadata": {},
   "outputs": [],
   "source": [
    "import os\n",
    "import openai\n",
    "import ls_nb_utils\n",
    "from IPython import display"
   ]
  },
  {
   "cell_type": "code",
   "execution_count": null,
   "id": "50d02199-73f8-42cd-9c99-6c45d9d60d0b",
   "metadata": {},
   "outputs": [],
   "source": [
    "os.path.abspath('.')"
   ]
  },
  {
   "cell_type": "code",
   "execution_count": null,
   "id": "484081f4-26e7-4ada-a403-684b45324ec2",
   "metadata": {},
   "outputs": [],
   "source": [
    "openai.api_key  = os.environ['OPENAI_API_KEY']\n",
    "client = openai.OpenAI()"
   ]
  },
  {
   "cell_type": "code",
   "execution_count": null,
   "id": "f168a680-4bb3-459b-9985-a6ff0336c2e7",
   "metadata": {},
   "outputs": [],
   "source": [
    "ls_app_url =  'https://pocketverse.herokuapp.com/LS_API'\n",
    "ls_app_username = os.environ['LS_USERNAME']\n",
    "ls_app_password = os.environ['LS_PASSWORD']\n",
    "ls_app_username, ls_app_password"
   ]
  },
  {
   "cell_type": "code",
   "execution_count": null,
   "id": "e68b8368-0e4f-4a67-a2ca-59d499e01383",
   "metadata": {},
   "outputs": [],
   "source": [
    "resp_app = ls_nb_utils.get_access_token(ls_app_username, ls_app_password, 'jwt_login', ls_app_url)\n",
    "resp_app\n",
    "token=resp_app['token']"
   ]
  },
  {
   "cell_type": "code",
   "execution_count": null,
   "id": "8ad8c92a-2291-4e3e-a431-381bfda93d65",
   "metadata": {},
   "outputs": [],
   "source": [
    "params = {\n",
    "  \"userName\": \"inseo\",\n",
    "}\n",
    "route = 'lsagent/user/places'"
   ]
  },
  {
   "cell_type": "code",
   "execution_count": null,
   "id": "6f378918-21ca-4694-b2fa-7938190ba5e0",
   "metadata": {},
   "outputs": [],
   "source": [
    "res = ls_nb_utils.test_ls_post(params, route, url = ls_app_url, token = token, target = 'packet')"
   ]
  },
  {
   "cell_type": "code",
   "execution_count": null,
   "id": "b481ed3f-6006-4bfb-b2a4-858a796e136f",
   "metadata": {},
   "outputs": [],
   "source": [
    "len(res['placeList'])"
   ]
  },
  {
   "cell_type": "code",
   "execution_count": null,
   "id": "b8190d51-a671-49d2-920e-188da55b42fe",
   "metadata": {},
   "outputs": [],
   "source": [
    "res['placeList'][1]"
   ]
  },
  {
   "cell_type": "code",
   "execution_count": null,
   "id": "0a242939-8cdb-42a9-b6ff-8950c118a7de",
   "metadata": {},
   "outputs": [],
   "source": [
    "user_text = f\"{res['placeList']}\"\n",
    "system_message = '''Based on the user input identify user preferences for travel, meals, activities, means of transportation. Be brief\n",
    "present results using \"you\"\n",
    "'''\n",
    "report_message = ''# '''present results in markdown format'''"
   ]
  },
  {
   "cell_type": "code",
   "execution_count": null,
   "id": "1e9e04c8-02d4-4bc8-8cc9-1c1c92d30c0e",
   "metadata": {},
   "outputs": [],
   "source": [
    "model = 'gpt-3.5-turbo'\n",
    "model = 'gpt-4o'"
   ]
  },
  {
   "cell_type": "code",
   "execution_count": null,
   "id": "4825cea7-1e8a-4c74-9907-2635cafd9a9b",
   "metadata": {},
   "outputs": [],
   "source": [
    "%%time\n",
    "obj, text = ls_nb_utils.req_ai2(client, user_text, model_name_system = model, \n",
    "                    system_message = system_message, report_message = report_message)"
   ]
  },
  {
   "cell_type": "code",
   "execution_count": null,
   "id": "889ceea4-64ed-4df2-b5d2-e76a5acd4bac",
   "metadata": {},
   "outputs": [],
   "source": [
    "obj"
   ]
  },
  {
   "cell_type": "code",
   "execution_count": null,
   "id": "3ed6e492-bc73-4516-bd8e-599dc5de4694",
   "metadata": {},
   "outputs": [],
   "source": [
    "display.Markdown(text)"
   ]
  },
  {
   "cell_type": "code",
   "execution_count": null,
   "id": "ce34a8d4-0d2e-4a40-8268-88e4fe266d32",
   "metadata": {},
   "outputs": [],
   "source": []
  }
 ],
 "metadata": {
  "kernelspec": {
   "display_name": "Python 3 (ipykernel)",
   "language": "python",
   "name": "python3"
  },
  "language_info": {
   "codemirror_mode": {
    "name": "ipython",
    "version": 3
   },
   "file_extension": ".py",
   "mimetype": "text/x-python",
   "name": "python",
   "nbconvert_exporter": "python",
   "pygments_lexer": "ipython3",
   "version": "3.10.12"
  }
 },
 "nbformat": 4,
 "nbformat_minor": 5
}
