{
 "cells": [
  {
   "cell_type": "markdown",
   "id": "bfd347f9-b3d0-44c0-80e6-425495bfcf22",
   "metadata": {},
   "source": [
    "# Itinerary"
   ]
  },
  {
   "cell_type": "code",
   "execution_count": 15,
   "id": "616cd41f",
   "metadata": {},
   "outputs": [],
   "source": [
    "import sys\n",
    "import os"
   ]
  },
  {
   "cell_type": "code",
   "execution_count": 16,
   "id": "70ee49d8-5786-4607-a63f-440605dd7c0b",
   "metadata": {},
   "outputs": [],
   "source": [
    "# pip install pyarrow"
   ]
  },
  {
   "cell_type": "code",
   "execution_count": 17,
   "id": "34dee4c1",
   "metadata": {},
   "outputs": [],
   "source": [
    "import json\n",
    "import pandas as pd\n",
    "from IPython.display import display, Markdown\n",
    "from importlib import reload"
   ]
  },
  {
   "cell_type": "code",
   "execution_count": 18,
   "id": "a3266beb",
   "metadata": {},
   "outputs": [],
   "source": [
    "import openai\n",
    "from langchain.document_loaders import PyPDFLoader\n",
    "from langchain import FAISS\n",
    "from langchain.embeddings.openai import OpenAIEmbeddings"
   ]
  },
  {
   "cell_type": "code",
   "execution_count": 19,
   "id": "ae01dfa7",
   "metadata": {},
   "outputs": [],
   "source": [
    "openai.api_key  = os.environ['OPENAI_API_KEY']"
   ]
  },
  {
   "cell_type": "code",
   "execution_count": 20,
   "id": "b343cd02",
   "metadata": {},
   "outputs": [],
   "source": [
    "def ask_openai ( prompt):\n",
    "    response = openai.ChatCompletion.create(\n",
    "        model=\"gpt-3.5-turbo\",\n",
    "        messages=[\n",
    "            {\"role\": \"system\", \"content\": \"You are a travel agent\"},\n",
    "            {\"role\": \"user\", \"content\": prompt}\n",
    "        ],\n",
    "        temperature = 0\n",
    "    )\n",
    "    return response['choices'][0]['message']['content']"
   ]
  },
  {
   "cell_type": "code",
   "execution_count": 26,
   "id": "58a97c91",
   "metadata": {},
   "outputs": [],
   "source": [
    "p_itinerary = '''\n",
    "Act as a travel agent and help me to plan my trip. \n",
    "I will drive from Mountain View, CA to Palm Springs, CA on October 20th. I want to arrive to Palm Springs by 2 PM. \n",
    "I will stay in Palm Springs for two days.\n",
    "On the way back I'd like stay overnight somewhere in between from Palm Springs and Mountain View. It should be a locations where I can\n",
    "visit local winderies. Suggest routes, lunch times\n",
    "and locations.\n",
    "Present results in json format and include text recommendaitons for each day.\n",
    "'''"
   ]
  },
  {
   "cell_type": "code",
   "execution_count": 27,
   "id": "d2bb0f7c-974b-478e-876b-c75aa3751396",
   "metadata": {},
   "outputs": [],
   "source": [
    "answer = ask_openai(p_itinerary)"
   ]
  },
  {
   "cell_type": "code",
   "execution_count": 28,
   "id": "fa012e9f-55ee-4293-a0c9-7b876a660da4",
   "metadata": {},
   "outputs": [
    {
     "name": "stdout",
     "output_type": "stream",
     "text": [
      "{\n",
      "  \"trip\": {\n",
      "    \"start_location\": \"Mountain View, CA\",\n",
      "    \"end_location\": \"Palm Springs, CA\",\n",
      "    \"departure_date\": \"2022-10-20\",\n",
      "    \"arrival_time\": \"14:00\",\n",
      "    \"return_stay_duration\": 1,\n",
      "    \"return_winery_location\": \"Between Palm Springs and Mountain View\"\n",
      "  },\n",
      "  \"recommendations\": {\n",
      "    \"day1\": {\n",
      "      \"route\": \"Take I-5 S and I-210 E to CA-57 S in San Dimas. Continue on CA-57 S. Take I-10 E to Palm Springs.\",\n",
      "      \"lunch_time\": \"12:00\",\n",
      "      \"lunch_location\": \"Ontario, CA\",\n",
      "      \"text_recommendation\": \"Start your journey early in the morning to allow enough time for the drive. Enjoy a delicious lunch in Ontario, CA before continuing your drive to Palm Springs. Take breaks along the way to stretch your legs and enjoy the scenic views.\"\n",
      "    },\n",
      "    \"day2\": {\n",
      "      \"text_recommendation\": \"Spend the day exploring Palm Springs. Visit the Palm Springs Aerial Tramway for breathtaking views, explore the Palm Springs Art Museum, and relax by the pool at your hotel. In the evening, dine at one of the many fantastic restaurants in downtown Palm Springs.\"\n",
      "    },\n",
      "    \"return_day\": {\n",
      "      \"route\": \"Take I-10 W and CA-46 W to Paso Robles. Explore the wineries in Paso Robles and stay overnight in the area.\",\n",
      "      \"lunch_time\": \"12:30\",\n",
      "      \"lunch_location\": \"San Luis Obispo, CA\",\n",
      "      \"text_recommendation\": \"On your way back, take a scenic route through Paso Robles, known for its excellent wineries. Enjoy a leisurely lunch in San Luis Obispo before continuing your drive. Spend the evening exploring the wineries in Paso Robles and stay overnight in the area.\"\n",
      "    }\n",
      "  }\n",
      "}\n"
     ]
    }
   ],
   "source": [
    "print (answer)"
   ]
  },
  {
   "cell_type": "code",
   "execution_count": 29,
   "id": "e21e0cbb-72d4-4723-b9ff-b6b04c959e18",
   "metadata": {},
   "outputs": [
    {
     "name": "stdout",
     "output_type": "stream",
     "text": [
      "As a food connoisseur, I would recommend checking out Tacos La Central in Ontario, CA for a delicious and budget-friendly Mexican cuisine experience. This local gem offers authentic and flavorful tacos, burritos, and quesadillas at affordable prices. The menu features a variety of meat options such as carne asada, al pastor, and carnitas, along with vegetarian options like grilled vegetables and cheese. The portions are generous, and the food is made with fresh ingredients. Tacos La Central is known for its friendly service and casual atmosphere, making it a great spot for a satisfying lunch without breaking the bank.\n"
     ]
    }
   ],
   "source": [
    "p_lunch = ''' \n",
    "act as a food connoiseur and suggest a place for lunch in Ontario, CA on budget. I prefer mexican cousine\n",
    "'''\n",
    "answer = ask_openai(p_lunch)\n",
    "print(answer)"
   ]
  },
  {
   "cell_type": "code",
   "execution_count": 30,
   "id": "2d74ee7f-1136-4142-98e3-eb97744ee4c9",
   "metadata": {},
   "outputs": [
    {
     "name": "stdout",
     "output_type": "stream",
     "text": [
      "Certamente! Se preferisci la cucina greca, ti consiglio di provare il ristorante \"Greek Street Grill\" a Ontario, CA. Offrono una varietà di piatti tradizionali greci come moussaka, souvlaki e gyro. Il ristorante ha anche un'atmosfera accogliente e personale cordiale. Spero che tu possa goderti il pranzo lì!\n"
     ]
    }
   ],
   "source": [
    "p_lunch = ''' \n",
    "Preferisco la cucina greca. Puoi suggerire una trattoria per il pranzo a Ontario, CA?\n",
    "'''\n",
    "answer = ask_openai(p_lunch)\n",
    "print(answer)"
   ]
  },
  {
   "cell_type": "code",
   "execution_count": null,
   "id": "f2fa9591-257c-4224-89ae-3a91fbbfff16",
   "metadata": {},
   "outputs": [],
   "source": []
  },
  {
   "cell_type": "code",
   "execution_count": null,
   "id": "045680ae-b11b-4906-8301-be57931b19b0",
   "metadata": {},
   "outputs": [],
   "source": []
  },
  {
   "cell_type": "code",
   "execution_count": 12,
   "id": "d72c84c2-2e03-4a91-9f87-4b062f8e763a",
   "metadata": {},
   "outputs": [],
   "source": [
    "t_2023_10_26 = '''\n",
    "We went to Dominick’s Steakhouse for Lesha’s birthday dinner. \n",
    "There was a small hiccup on the way when Vanessa discovered that her car’s tires did not have enough pressure. \n",
    "Lesha was not able to find a working air compressor at a gas station. Luckily, Vanessa and Gary had their portable ones. \n",
    "We were late but Vanessa warned them over the phone. The restaurant staff was very accomodating for our tardiness.\n",
    "They sat  us at a table close to the aisle. Then when Lesha mentioned that when our waiter, \n",
    "Nate, stepped at a certain spot the whole table shook. \n",
    "Suprisingly, almost immediately, a manager came and moved us to a better table. \n",
    "The waiter gave us a menu and a wine list. The wine list had wines with prices from $275 to $4000. \n",
    "I panicked initially but then noticed on the other side of the menu a list of normally priced wines and wines by the glass. \n",
    "\n",
    "Lesha ordered appetizers, which included crabs on ice, devil’s eggs and something else. Crabs were very good: fresh and deliious.\n",
    "I ordered a vodka martini dirty with juice but no blue cheese on ice. \n",
    "It was good and lasted long. I ordered a beet salad - nothing spectacular, and a petit filet mignon, medium rare. \n",
    "This one was not petit: 8 oz piece was more than enough. Also came the sides, which were very good, especially sweet potatoes. \n",
    "I ordered a glass of Oregon Pinot Noir, which paired nicely with the filet mignon. \n",
    "The whole dinner came at $1200 for 7 people. Costly, but worth it.\n",
    "'''"
   ]
  },
  {
   "cell_type": "code",
   "execution_count": 13,
   "id": "2e8a580a-f2ba-4d2f-bf05-e9f1f7837475",
   "metadata": {},
   "outputs": [],
   "source": [
    "p_leave_restaurant = f'''\n",
    "Leave only references to the dinner at the restaurant, meals, sentiments and costs from the text separated by '-'.\n",
    " -{t_2023_10_26} - Remove personal references and correct the grammer. Additionally, deduce the sentiment and rate i on the scale\n",
    " from 1 to 5. Present result in json format using the following scheme: \n",
    "  'response' : response; 'sentiment':sentiment;\n",
    " '''"
   ]
  },
  {
   "cell_type": "code",
   "execution_count": 14,
   "id": "f1f6f43d-4ca7-4eb3-8c73-aff769460aee",
   "metadata": {},
   "outputs": [
    {
     "name": "stdout",
     "output_type": "stream",
     "text": [
      "{\n",
      "  \"response\": \"We went to Dominick's Steakhouse for dinner at Lesha's birthday. The restaurant staff was very accommodating for our tardiness and moved us to a better table when there was an issue. The menu had a wide range of wines with varying prices. Lesha ordered appetizers including crabs on ice, devil's eggs, and something else. The crabs were fresh and delicious. I had a vodka martini and a beet salad, which were both good. The petit filet mignon was more than enough and the sides, especially the sweet potatoes, were very good. I paired it with a glass of Oregon Pinot Noir. The whole dinner cost $1200 for 7 people, which was costly but worth it.\",\n",
      "  \"sentiment\": 4\n",
      "}\n"
     ]
    }
   ],
   "source": [
    "answer = ask_openai(p_leave_restaurant)\n",
    "print(answer)"
   ]
  },
  {
   "cell_type": "code",
   "execution_count": null,
   "id": "3973efd9-356d-4112-9cb5-d9a1c611630d",
   "metadata": {},
   "outputs": [],
   "source": []
  }
 ],
 "metadata": {
  "kernelspec": {
   "display_name": "Python 3 (ipykernel)",
   "language": "python",
   "name": "python3"
  },
  "language_info": {
   "codemirror_mode": {
    "name": "ipython",
    "version": 3
   },
   "file_extension": ".py",
   "mimetype": "text/x-python",
   "name": "python",
   "nbconvert_exporter": "python",
   "pygments_lexer": "ipython3",
   "version": "3.10.12"
  }
 },
 "nbformat": 4,
 "nbformat_minor": 5
}
