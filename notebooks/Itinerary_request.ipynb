{
 "cells": [
  {
   "cell_type": "markdown",
   "id": "bfd347f9-b3d0-44c0-80e6-425495bfcf22",
   "metadata": {},
   "source": [
    "# Experiments with applying openai to building itineraries and blog removal os sensitive information"
   ]
  },
  {
   "cell_type": "code",
   "execution_count": null,
   "id": "616cd41f",
   "metadata": {},
   "outputs": [],
   "source": [
    "import sys\n",
    "import os"
   ]
  },
  {
   "cell_type": "code",
   "execution_count": null,
   "id": "70ee49d8-5786-4607-a63f-440605dd7c0b",
   "metadata": {},
   "outputs": [],
   "source": [
    "# pip install pyarrow"
   ]
  },
  {
   "cell_type": "code",
   "execution_count": null,
   "id": "34dee4c1",
   "metadata": {},
   "outputs": [],
   "source": [
    "import json\n",
    "import pandas as pd\n",
    "from IPython.display import display, Markdown\n",
    "from importlib import reload"
   ]
  },
  {
   "cell_type": "code",
   "execution_count": null,
   "id": "a3266beb",
   "metadata": {},
   "outputs": [],
   "source": [
    "import openai\n",
    "from langchain.document_loaders import PyPDFLoader\n",
    "from langchain import FAISS\n",
    "from langchain.embeddings.openai import OpenAIEmbeddings"
   ]
  },
  {
   "cell_type": "code",
   "execution_count": null,
   "id": "ae01dfa7",
   "metadata": {},
   "outputs": [],
   "source": [
    "openai.api_key  = os.environ['OPENAI_API_KEY']"
   ]
  },
  {
   "cell_type": "markdown",
   "id": "286e18a7-a19b-4812-8f65-6e5671c6c50f",
   "metadata": {},
   "source": [
    "## Using various models"
   ]
  },
  {
   "cell_type": "code",
   "execution_count": null,
   "id": "891e725f-4c08-483e-a5c6-5aefd529786c",
   "metadata": {},
   "outputs": [],
   "source": [
    "m35 = \"gpt-3.5-turbo\"\n",
    "m35_latest = 'gpt-3.5-turbo-1106'\n",
    "m4 = 'gpt-4-1106-preview'\n",
    "client = openai.OpenAI()"
   ]
  },
  {
   "cell_type": "code",
   "execution_count": null,
   "id": "b343cd02",
   "metadata": {},
   "outputs": [],
   "source": [
    "def ask_openai ( prompt, model = m35_latest):\n",
    "    response = client.chat.completions.create(\n",
    "        model=model,\n",
    "        \n",
    "        messages=[\n",
    "            {\"role\": \"system\", \"content\": \"You are a travel agent\"},\n",
    "            {\"role\": \"user\", \"content\": prompt}\n",
    "        ],\n",
    "        temperature = 0\n",
    "    )\n",
    "    return response.choices[0].message.content"
   ]
  },
  {
   "cell_type": "markdown",
   "id": "d5cbb7cf-407a-4f37-b470-e130518891a2",
   "metadata": {},
   "source": [
    "## Creating a simple prompts"
   ]
  },
  {
   "cell_type": "code",
   "execution_count": null,
   "id": "58a97c91",
   "metadata": {},
   "outputs": [],
   "source": [
    "p_itinerary = '''\n",
    "Act as a travel agent and help me to plan my trip. \n",
    "I will drive from Mountain View, CA to Palm Springs, CA on October 20th. I want to arrive to Palm Springs by 2 PM. \n",
    "I will stay in Palm Springs for two days.\n",
    "On the way back I'd like stay overnight somewhere in between from Palm Springs and Mountain View. It should be a locations where I can\n",
    "visit local winderies. Suggest routes, lunch times\n",
    "and locations.\n",
    "Present results in json format and include text recommendaitons for each day.\n",
    "'''"
   ]
  },
  {
   "cell_type": "code",
   "execution_count": null,
   "id": "d2bb0f7c-974b-478e-876b-c75aa3751396",
   "metadata": {},
   "outputs": [],
   "source": [
    "answer = ask_openai(p_itinerary, m35)\n",
    "print (answer)"
   ]
  },
  {
   "cell_type": "code",
   "execution_count": null,
   "id": "fa012e9f-55ee-4293-a0c9-7b876a660da4",
   "metadata": {},
   "outputs": [],
   "source": [
    "answer = ask_openai(p_itinerary, m35_latest)\n",
    "print (answer)"
   ]
  },
  {
   "cell_type": "code",
   "execution_count": null,
   "id": "0c436668-a44d-4502-9d8d-82caaaaafb77",
   "metadata": {},
   "outputs": [],
   "source": [
    "answer = ask_openai(p_itinerary, m4)\n",
    "print (answer)"
   ]
  },
  {
   "cell_type": "markdown",
   "id": "40afae13-9481-487a-85a7-723ea0f978c1",
   "metadata": {},
   "source": [
    "## A request on lunch recomendations. Using the latest gpt-4 model"
   ]
  },
  {
   "cell_type": "code",
   "execution_count": null,
   "id": "e21e0cbb-72d4-4723-b9ff-b6b04c959e18",
   "metadata": {},
   "outputs": [],
   "source": [
    "p_lunch = ''' \n",
    "act as a food connoiseur and suggest a place for lunch in Palm Springs, CA on budget. I prefer mexican cousine. Present resulat in json format\n",
    "using following keys: restaurant_name, location, approximate_lunch_price, text.\n",
    "'''\n",
    "answer = ask_openai(p_lunch, m4)\n",
    "print (answer)"
   ]
  },
  {
   "cell_type": "code",
   "execution_count": null,
   "id": "045680ae-b11b-4906-8301-be57931b19b0",
   "metadata": {},
   "outputs": [],
   "source": [
    "answer = ask_openai(p_lunch, m35_latest)\n",
    "print (answer)"
   ]
  },
  {
   "cell_type": "markdown",
   "id": "e06d606f-e23e-4cf2-a666-6006a8f522b6",
   "metadata": {},
   "source": [
    "## Removal of sensitive information. The text below contains personal info "
   ]
  },
  {
   "cell_type": "code",
   "execution_count": null,
   "id": "d72c84c2-2e03-4a91-9f87-4b062f8e763a",
   "metadata": {},
   "outputs": [],
   "source": [
    "t_2023_10_26 = '''\n",
    "We went to Dominick’s Steakhouse for Alex’s birthday dinner. \n",
    "There was a small hiccup on the way when Vanessa discovered that her car’s tires did not have enough pressure. \n",
    "Alex was not able to find a working air compressor at a gas station. Luckily, Vanessa and Gary had their portable ones. \n",
    "We were late but Vanessa warned them over the phone. The restaurant staff was very accomodating for our tardiness.\n",
    "They sat  us at a table close to the aisle. Then when Alex mentioned that when our waiter, \n",
    "Nate, stepped at a certain spot the whole table shook. \n",
    "Suprisingly, almost immediately, a manager came and moved us to a better table. \n",
    "The waiter gave us a menu and a wine list. The wine list had wines with prices from $275 to $4000. \n",
    "I panicked initially but then noticed on the other side of the menu a list of normally priced wines and wines by the glass. \n",
    "\n",
    "Lesha ordered appetizers, which included crabs on ice, devil’s eggs and something else. Crabs were very good: fresh and deliious.\n",
    "I ordered a vodka martini dirty with juice but no blue cheese on ice. \n",
    "It was good and lasted long. I ordered a beet salad - nothing spectacular, and a petit filet mignon, medium rare. \n",
    "This one was not petit: 8 oz piece was more than enough. Also came the sides, which were very good, especially sweet potatoes. \n",
    "I ordered a glass of Oregon Pinot Noir, which paired nicely with the filet mignon. \n",
    "The whole dinner came at $1200 for 7 people. Costly, but worth it.\n",
    "'''"
   ]
  },
  {
   "cell_type": "markdown",
   "id": "746aa316-59db-42b3-8b39-d08f2875a7d0",
   "metadata": {},
   "source": [
    "### Prompt to remove the sensitive info"
   ]
  },
  {
   "cell_type": "code",
   "execution_count": null,
   "id": "2e8a580a-f2ba-4d2f-bf05-e9f1f7837475",
   "metadata": {},
   "outputs": [],
   "source": [
    "p_leave_restaurant = f'''\n",
    "Leave only references to the dinner at the restaurant, meals, sentiments and costs from the text separated by '-'.\n",
    " -{t_2023_10_26} - Remove personal references and correct the grammer. Additionally, deduce the sentiment and rate i on the scale\n",
    " from 1 to 5. Present result in json format using the following scheme: \n",
    "  'response' : response; 'sentiment':sentiment;\n",
    " '''"
   ]
  },
  {
   "cell_type": "markdown",
   "id": "4c3ecd2b-4ba2-449e-846d-6d62cb4405fd",
   "metadata": {},
   "source": [
    "### Result"
   ]
  },
  {
   "cell_type": "code",
   "execution_count": null,
   "id": "f1f6f43d-4ca7-4eb3-8c73-aff769460aee",
   "metadata": {},
   "outputs": [],
   "source": [
    "answer = ask_openai(p_leave_restaurant)\n",
    "print(answer)"
   ]
  },
  {
   "cell_type": "code",
   "execution_count": null,
   "id": "3973efd9-356d-4112-9cb5-d9a1c611630d",
   "metadata": {},
   "outputs": [],
   "source": [
    "answer = ask_openai(p_leave_restaurant, m4)\n",
    "print(answer)"
   ]
  },
  {
   "cell_type": "markdown",
   "id": "45d16d4a-dd6b-4b22-adf4-d65d2f557649",
   "metadata": {},
   "source": [
    "## Itenerary Prompt created by chatgpt and adapted"
   ]
  },
  {
   "cell_type": "code",
   "execution_count": null,
   "id": "4f93be21-85ba-4c2d-87c8-39893429b829",
   "metadata": {},
   "outputs": [],
   "source": [
    "itinerary_template = '''\n",
    "Generate a detailed travel itinerary for a trip to {Destination}. \n",
    "Include recommendations for accommodation, transportation, activities, and dining options. \n",
    "Consider the preferences of a traveler who enjoys {Preferences}, \n",
    "The trip should start on {StartDate} and end on {EndDate}. \n",
    "Please provide a day-by-day breakdown of the itinerary, including estimated costs and any additional tips or suggestions.\n",
    "Try to fit this trip in my budget of {Budget} dollars.\n",
    "\n",
    "Additionally, for each day of the itinerary, include a JSON object with the following structure:\n",
    "\n",
    "  \"day\": 1,\n",
    "  \"date\": \"[Date]\",\n",
    "  \"accommodation\": \"[Accommodation Recommendation]\",\n",
    "  \"transportation\": \"[Transportation Recommendation]\",\n",
    "  \"activities\": [\"Activity 1\", \"Activity 2\", ...],\n",
    "  \"dining_options\": [\"Dining Option 1\", \"Dining Option 2\", ...]\n",
    "\n",
    "'''\n",
    "def itinerary_prompt(Destination, Preferences, StartDate, EndDate, Budget):\n",
    "    return itinerary_template.format(Destination = Destination, Preferences = Preferences, StartDate = StartDate, EndDate = EndDate, Budget = Budget)"
   ]
  },
  {
   "cell_type": "markdown",
   "id": "70cbf33a-852a-449b-8af1-1ca6962c4e11",
   "metadata": {},
   "source": [
    "### Create a prompt for a trip to NYC"
   ]
  },
  {
   "cell_type": "code",
   "execution_count": null,
   "id": "d504856a-ac86-467d-97a0-40aa7c6abc22",
   "metadata": {},
   "outputs": [],
   "source": [
    "p_NYC = itinerary_prompt('New York City', 'Museums, dining, walking around the city', 'April 29', 'May 4', 2000)"
   ]
  },
  {
   "cell_type": "code",
   "execution_count": null,
   "id": "b842d5b4-e264-4cf4-a25a-553a6088a1d8",
   "metadata": {},
   "outputs": [],
   "source": [
    "print (p_NYC)"
   ]
  },
  {
   "cell_type": "markdown",
   "id": "e0c9a8fe-c741-422e-a8c3-bf10144d300b",
   "metadata": {},
   "source": [
    "### Ask OpenAI"
   ]
  },
  {
   "cell_type": "code",
   "execution_count": null,
   "id": "7d36006e-a3bc-4679-aaa1-a2590bd5aad3",
   "metadata": {},
   "outputs": [],
   "source": [
    "answer = ask_openai(p_NYC, m4)\n",
    "print(answer)"
   ]
  },
  {
   "cell_type": "markdown",
   "id": "d0948f61-3d09-40e4-b54f-825879db43a9",
   "metadata": {},
   "source": [
    "### Change the dates"
   ]
  },
  {
   "cell_type": "code",
   "execution_count": null,
   "id": "21b3af6c-89b2-4f58-a507-3b8aae913cf1",
   "metadata": {},
   "outputs": [],
   "source": [
    "p_NYC = itinerary_prompt('New York City', 'Museums, dining, walking around the city', 'April 29', 'May 1', 2000)\n",
    "answer = ask_openai(p_NYC, m4)\n",
    "print(answer)"
   ]
  },
  {
   "cell_type": "markdown",
   "id": "e3059441-88b2-46fc-b84a-d17d467a60ba",
   "metadata": {},
   "source": [
    "### Plan a trip to Mountain View"
   ]
  },
  {
   "cell_type": "code",
   "execution_count": null,
   "id": "e259b5d3-45c4-4447-803c-7bf418fff98e",
   "metadata": {},
   "outputs": [],
   "source": [
    "p_SF = itinerary_prompt('Mountain View, CA', 'Museums, dining, hiking', 'April 29', 'April 30', 2000)\n",
    "answer = ask_openai(p_SF, m4)\n",
    "print(answer)"
   ]
  },
  {
   "cell_type": "markdown",
   "id": "dfe1f6e2-5776-4850-abb8-377b0101c3e4",
   "metadata": {},
   "source": [
    "### One day trip to Carmel"
   ]
  },
  {
   "cell_type": "code",
   "execution_count": null,
   "id": "929cc466-1e12-4381-b0e9-a82a4be8f5a6",
   "metadata": {},
   "outputs": [],
   "source": [
    "p_carmel = itinerary_prompt('Carmel by the sea, CA', 'nature, dining, hiking', 'April 29', 'April 29', 2000)\n",
    "answer = ask_openai(p_carmel, m4)\n",
    "print(answer)"
   ]
  },
  {
   "cell_type": "code",
   "execution_count": null,
   "id": "4993b88f-664c-4216-a33d-d7a1834ec467",
   "metadata": {},
   "outputs": [],
   "source": [
    "p_japan = '''I want to make a trip to Japan and visit Tokyo, Hakone and Kyoto. Duration of the trip is 10 days.\n",
    "Please, suggest the best time of the year and durations of the stay in each place as well as places to visit.'''\n",
    "answer = ask_openai(p_japan, m4)\n",
    "print(answer)"
   ]
  }
 ],
 "metadata": {
  "kernelspec": {
   "display_name": "Python 3 (ipykernel)",
   "language": "python",
   "name": "python3"
  },
  "language_info": {
   "codemirror_mode": {
    "name": "ipython",
    "version": 3
   },
   "file_extension": ".py",
   "mimetype": "text/x-python",
   "name": "python",
   "nbconvert_exporter": "python",
   "pygments_lexer": "ipython3",
   "version": "3.10.12"
  }
 },
 "nbformat": 4,
 "nbformat_minor": 5
}
